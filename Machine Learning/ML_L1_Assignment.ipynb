{
  "nbformat": 4,
  "nbformat_minor": 0,
  "metadata": {
    "colab": {
      "name": "ML_L1_Assignment.ipynb",
      "provenance": [],
      "collapsed_sections": [],
      "include_colab_link": true
    },
    "kernelspec": {
      "name": "python3",
      "display_name": "Python 3"
    }
  },
  "cells": [
    {
      "cell_type": "markdown",
      "metadata": {
        "id": "view-in-github",
        "colab_type": "text"
      },
      "source": [
        "<a href=\"https://colab.research.google.com/github/rahulgundre/SHALA2020/blob/master/Machine%20Learning/ML_L1_Assignment.ipynb\" target=\"_parent\"><img src=\"https://colab.research.google.com/assets/colab-badge.svg\" alt=\"Open In Colab\"/></a>"
      ]
    },
    {
      "cell_type": "markdown",
      "metadata": {
        "id": "_lnS8bdSWnuK",
        "colab_type": "text"
      },
      "source": [
        "# **Assignment 1** (Intro to Machine Learning)"
      ]
    },
    {
      "cell_type": "markdown",
      "metadata": {
        "id": "a0_VaZIOWzut",
        "colab_type": "text"
      },
      "source": [
        "## Note:\n",
        "\n",
        "* The dataset to be used is `attrition.csv`. This dataset reveals whether a particular employee left the company or not.  \n",
        "* In this dataset, the column named `Attrition` is the target variable and the remaining columns are features. Please note that `Attrition = 1` means the employee left the company, whereas `Attrition = 0` means the opposite of this statement. \n",
        "*  This dataset has been loaded in this assignment as shown below. In case, you are not able to load this data, please note that this data is stored separately as well in the assignment folder. "
      ]
    },
    {
      "cell_type": "code",
      "metadata": {
        "id": "7bF8pLu6VdCg",
        "colab_type": "code",
        "colab": {
          "base_uri": "https://localhost:8080/",
          "height": 70
        },
        "outputId": "5ea61576-9e29-4520-df53-0fb42fed9f11"
      },
      "source": [
        "# import libraries\n",
        "import pandas as pd\n",
        "import numpy as np\n",
        "import matplotlib.pyplot as plt\n",
        "import seaborn as sns"
      ],
      "execution_count": 1,
      "outputs": [
        {
          "output_type": "stream",
          "text": [
            "/usr/local/lib/python3.6/dist-packages/statsmodels/tools/_testing.py:19: FutureWarning: pandas.util.testing is deprecated. Use the functions in the public API at pandas.testing instead.\n",
            "  import pandas.util.testing as tm\n"
          ],
          "name": "stderr"
        }
      ]
    },
    {
      "cell_type": "code",
      "metadata": {
        "id": "5ABlrvQjXFgv",
        "colab_type": "code",
        "colab": {}
      },
      "source": [
        "data_url = \"https://raw.githubusercontent.com/shala2020/shala2020.github.io/master/Lecture_Materials/Assignments/MachineLearning/L1/attrition.csv\"\n",
        "attrition_data = pd.read_csv(data_url)"
      ],
      "execution_count": 0,
      "outputs": []
    },
    {
      "cell_type": "code",
      "metadata": {
        "id": "ljGWG-REXpeg",
        "colab_type": "code",
        "outputId": "4500193c-996e-494a-f1cf-e9c1761f5eb7",
        "colab": {
          "base_uri": "https://localhost:8080/",
          "height": 300
        }
      },
      "source": [
        "attrition_data.head()"
      ],
      "execution_count": 3,
      "outputs": [
        {
          "output_type": "execute_result",
          "data": {
            "text/html": [
              "<div>\n",
              "<style scoped>\n",
              "    .dataframe tbody tr th:only-of-type {\n",
              "        vertical-align: middle;\n",
              "    }\n",
              "\n",
              "    .dataframe tbody tr th {\n",
              "        vertical-align: top;\n",
              "    }\n",
              "\n",
              "    .dataframe thead th {\n",
              "        text-align: right;\n",
              "    }\n",
              "</style>\n",
              "<table border=\"1\" class=\"dataframe\">\n",
              "  <thead>\n",
              "    <tr style=\"text-align: right;\">\n",
              "      <th></th>\n",
              "      <th>Age</th>\n",
              "      <th>Attrition</th>\n",
              "      <th>BusinessTravel</th>\n",
              "      <th>DailyRate</th>\n",
              "      <th>Department</th>\n",
              "      <th>DistanceFromHome</th>\n",
              "      <th>Education</th>\n",
              "      <th>EducationField</th>\n",
              "      <th>EmployeeCount</th>\n",
              "      <th>EmployeeNumber</th>\n",
              "      <th>EnvironmentSatisfaction</th>\n",
              "      <th>Gender</th>\n",
              "      <th>HourlyRate</th>\n",
              "      <th>JobInvolvement</th>\n",
              "      <th>JobLevel</th>\n",
              "      <th>JobRole</th>\n",
              "      <th>JobSatisfaction</th>\n",
              "      <th>MaritalStatus</th>\n",
              "      <th>MonthlyIncome</th>\n",
              "      <th>MonthlyRate</th>\n",
              "      <th>NumCompaniesWorked</th>\n",
              "      <th>OverTime</th>\n",
              "      <th>PercentSalaryHike</th>\n",
              "      <th>PerformanceRating</th>\n",
              "      <th>RelationshipSatisfaction</th>\n",
              "      <th>StockOptionLevel</th>\n",
              "      <th>TotalWorkingYears</th>\n",
              "      <th>TrainingTimesLastYear</th>\n",
              "      <th>WorkLifeBalance</th>\n",
              "      <th>YearsAtCompany</th>\n",
              "      <th>YearsInCurrentRole</th>\n",
              "      <th>YearsSinceLastPromotion</th>\n",
              "      <th>YearsWithCurrManager</th>\n",
              "      <th>ID</th>\n",
              "    </tr>\n",
              "  </thead>\n",
              "  <tbody>\n",
              "    <tr>\n",
              "      <th>0</th>\n",
              "      <td>41</td>\n",
              "      <td>1</td>\n",
              "      <td>Travel_Rarely</td>\n",
              "      <td>1102</td>\n",
              "      <td>Sales</td>\n",
              "      <td>1</td>\n",
              "      <td>2</td>\n",
              "      <td>Life Sciences</td>\n",
              "      <td>1</td>\n",
              "      <td>1</td>\n",
              "      <td>2</td>\n",
              "      <td>Female</td>\n",
              "      <td>94</td>\n",
              "      <td>3</td>\n",
              "      <td>2</td>\n",
              "      <td>Sales Executive</td>\n",
              "      <td>4</td>\n",
              "      <td>Single</td>\n",
              "      <td>5993</td>\n",
              "      <td>19479</td>\n",
              "      <td>8</td>\n",
              "      <td>Yes</td>\n",
              "      <td>11</td>\n",
              "      <td>3</td>\n",
              "      <td>1</td>\n",
              "      <td>0</td>\n",
              "      <td>8</td>\n",
              "      <td>0</td>\n",
              "      <td>1</td>\n",
              "      <td>6</td>\n",
              "      <td>4</td>\n",
              "      <td>0</td>\n",
              "      <td>5</td>\n",
              "      <td>0</td>\n",
              "    </tr>\n",
              "    <tr>\n",
              "      <th>1</th>\n",
              "      <td>49</td>\n",
              "      <td>0</td>\n",
              "      <td>Travel_Frequently</td>\n",
              "      <td>279</td>\n",
              "      <td>Research &amp; Development</td>\n",
              "      <td>8</td>\n",
              "      <td>1</td>\n",
              "      <td>Life Sciences</td>\n",
              "      <td>1</td>\n",
              "      <td>2</td>\n",
              "      <td>3</td>\n",
              "      <td>Male</td>\n",
              "      <td>61</td>\n",
              "      <td>2</td>\n",
              "      <td>2</td>\n",
              "      <td>Research Scientist</td>\n",
              "      <td>2</td>\n",
              "      <td>Married</td>\n",
              "      <td>5130</td>\n",
              "      <td>24907</td>\n",
              "      <td>1</td>\n",
              "      <td>No</td>\n",
              "      <td>23</td>\n",
              "      <td>4</td>\n",
              "      <td>4</td>\n",
              "      <td>1</td>\n",
              "      <td>10</td>\n",
              "      <td>3</td>\n",
              "      <td>3</td>\n",
              "      <td>10</td>\n",
              "      <td>7</td>\n",
              "      <td>1</td>\n",
              "      <td>7</td>\n",
              "      <td>1</td>\n",
              "    </tr>\n",
              "    <tr>\n",
              "      <th>2</th>\n",
              "      <td>37</td>\n",
              "      <td>1</td>\n",
              "      <td>Travel_Rarely</td>\n",
              "      <td>1373</td>\n",
              "      <td>Research &amp; Development</td>\n",
              "      <td>2</td>\n",
              "      <td>2</td>\n",
              "      <td>Other</td>\n",
              "      <td>1</td>\n",
              "      <td>4</td>\n",
              "      <td>4</td>\n",
              "      <td>Male</td>\n",
              "      <td>92</td>\n",
              "      <td>2</td>\n",
              "      <td>1</td>\n",
              "      <td>Laboratory Technician</td>\n",
              "      <td>3</td>\n",
              "      <td>Single</td>\n",
              "      <td>2090</td>\n",
              "      <td>2396</td>\n",
              "      <td>6</td>\n",
              "      <td>Yes</td>\n",
              "      <td>15</td>\n",
              "      <td>3</td>\n",
              "      <td>2</td>\n",
              "      <td>0</td>\n",
              "      <td>7</td>\n",
              "      <td>3</td>\n",
              "      <td>3</td>\n",
              "      <td>0</td>\n",
              "      <td>0</td>\n",
              "      <td>0</td>\n",
              "      <td>0</td>\n",
              "      <td>2</td>\n",
              "    </tr>\n",
              "    <tr>\n",
              "      <th>3</th>\n",
              "      <td>33</td>\n",
              "      <td>0</td>\n",
              "      <td>Travel_Frequently</td>\n",
              "      <td>1392</td>\n",
              "      <td>Research &amp; Development</td>\n",
              "      <td>3</td>\n",
              "      <td>4</td>\n",
              "      <td>Life Sciences</td>\n",
              "      <td>1</td>\n",
              "      <td>5</td>\n",
              "      <td>4</td>\n",
              "      <td>Female</td>\n",
              "      <td>56</td>\n",
              "      <td>3</td>\n",
              "      <td>1</td>\n",
              "      <td>Research Scientist</td>\n",
              "      <td>3</td>\n",
              "      <td>Married</td>\n",
              "      <td>2909</td>\n",
              "      <td>23159</td>\n",
              "      <td>1</td>\n",
              "      <td>Yes</td>\n",
              "      <td>11</td>\n",
              "      <td>3</td>\n",
              "      <td>3</td>\n",
              "      <td>0</td>\n",
              "      <td>8</td>\n",
              "      <td>3</td>\n",
              "      <td>3</td>\n",
              "      <td>8</td>\n",
              "      <td>7</td>\n",
              "      <td>3</td>\n",
              "      <td>0</td>\n",
              "      <td>3</td>\n",
              "    </tr>\n",
              "    <tr>\n",
              "      <th>4</th>\n",
              "      <td>27</td>\n",
              "      <td>0</td>\n",
              "      <td>Travel_Rarely</td>\n",
              "      <td>591</td>\n",
              "      <td>Research &amp; Development</td>\n",
              "      <td>2</td>\n",
              "      <td>1</td>\n",
              "      <td>Medical</td>\n",
              "      <td>1</td>\n",
              "      <td>7</td>\n",
              "      <td>1</td>\n",
              "      <td>Male</td>\n",
              "      <td>40</td>\n",
              "      <td>3</td>\n",
              "      <td>1</td>\n",
              "      <td>Laboratory Technician</td>\n",
              "      <td>2</td>\n",
              "      <td>Married</td>\n",
              "      <td>3468</td>\n",
              "      <td>16632</td>\n",
              "      <td>9</td>\n",
              "      <td>No</td>\n",
              "      <td>12</td>\n",
              "      <td>3</td>\n",
              "      <td>4</td>\n",
              "      <td>1</td>\n",
              "      <td>6</td>\n",
              "      <td>3</td>\n",
              "      <td>3</td>\n",
              "      <td>2</td>\n",
              "      <td>2</td>\n",
              "      <td>2</td>\n",
              "      <td>2</td>\n",
              "      <td>4</td>\n",
              "    </tr>\n",
              "  </tbody>\n",
              "</table>\n",
              "</div>"
            ],
            "text/plain": [
              "   Age  Attrition  ... YearsWithCurrManager  ID\n",
              "0   41          1  ...                    5   0\n",
              "1   49          0  ...                    7   1\n",
              "2   37          1  ...                    0   2\n",
              "3   33          0  ...                    0   3\n",
              "4   27          0  ...                    2   4\n",
              "\n",
              "[5 rows x 34 columns]"
            ]
          },
          "metadata": {
            "tags": []
          },
          "execution_count": 3
        }
      ]
    },
    {
      "cell_type": "code",
      "metadata": {
        "id": "bSkUtZRw6KJR",
        "colab_type": "code",
        "colab": {
          "base_uri": "https://localhost:8080/",
          "height": 33
        },
        "outputId": "4bf23fd3-58b7-4a87-b5b3-f8f2eaaf5fce"
      },
      "source": [
        "attrition_data.shape"
      ],
      "execution_count": 4,
      "outputs": [
        {
          "output_type": "execute_result",
          "data": {
            "text/plain": [
              "(1028, 34)"
            ]
          },
          "metadata": {
            "tags": []
          },
          "execution_count": 4
        }
      ]
    },
    {
      "cell_type": "code",
      "metadata": {
        "id": "ZbQOFbOIi-pL",
        "colab_type": "code",
        "colab": {
          "base_uri": "https://localhost:8080/",
          "height": 306
        },
        "outputId": "893974a1-7c00-48af-f056-f731bd82134a"
      },
      "source": [
        "attrition_data.describe()"
      ],
      "execution_count": 6,
      "outputs": [
        {
          "output_type": "execute_result",
          "data": {
            "text/html": [
              "<div>\n",
              "<style scoped>\n",
              "    .dataframe tbody tr th:only-of-type {\n",
              "        vertical-align: middle;\n",
              "    }\n",
              "\n",
              "    .dataframe tbody tr th {\n",
              "        vertical-align: top;\n",
              "    }\n",
              "\n",
              "    .dataframe thead th {\n",
              "        text-align: right;\n",
              "    }\n",
              "</style>\n",
              "<table border=\"1\" class=\"dataframe\">\n",
              "  <thead>\n",
              "    <tr style=\"text-align: right;\">\n",
              "      <th></th>\n",
              "      <th>Age</th>\n",
              "      <th>Attrition</th>\n",
              "      <th>DailyRate</th>\n",
              "      <th>DistanceFromHome</th>\n",
              "      <th>Education</th>\n",
              "      <th>EmployeeCount</th>\n",
              "      <th>EmployeeNumber</th>\n",
              "      <th>EnvironmentSatisfaction</th>\n",
              "      <th>HourlyRate</th>\n",
              "      <th>JobInvolvement</th>\n",
              "      <th>JobLevel</th>\n",
              "      <th>JobSatisfaction</th>\n",
              "      <th>MonthlyIncome</th>\n",
              "      <th>MonthlyRate</th>\n",
              "      <th>NumCompaniesWorked</th>\n",
              "      <th>PercentSalaryHike</th>\n",
              "      <th>PerformanceRating</th>\n",
              "      <th>RelationshipSatisfaction</th>\n",
              "      <th>StockOptionLevel</th>\n",
              "      <th>TotalWorkingYears</th>\n",
              "      <th>TrainingTimesLastYear</th>\n",
              "      <th>WorkLifeBalance</th>\n",
              "      <th>YearsAtCompany</th>\n",
              "      <th>YearsInCurrentRole</th>\n",
              "      <th>YearsSinceLastPromotion</th>\n",
              "      <th>YearsWithCurrManager</th>\n",
              "      <th>ID</th>\n",
              "    </tr>\n",
              "  </thead>\n",
              "  <tbody>\n",
              "    <tr>\n",
              "      <th>count</th>\n",
              "      <td>1028.000000</td>\n",
              "      <td>1028.000000</td>\n",
              "      <td>1028.000000</td>\n",
              "      <td>1028.000000</td>\n",
              "      <td>1028.000000</td>\n",
              "      <td>1028.0</td>\n",
              "      <td>1028.000000</td>\n",
              "      <td>1028.000000</td>\n",
              "      <td>1028.000000</td>\n",
              "      <td>1028.000000</td>\n",
              "      <td>1028.000000</td>\n",
              "      <td>1028.000000</td>\n",
              "      <td>1028.000000</td>\n",
              "      <td>1028.000000</td>\n",
              "      <td>1028.000000</td>\n",
              "      <td>1028.000000</td>\n",
              "      <td>1028.000000</td>\n",
              "      <td>1028.000000</td>\n",
              "      <td>1028.000000</td>\n",
              "      <td>1028.000000</td>\n",
              "      <td>1028.000000</td>\n",
              "      <td>1028.000000</td>\n",
              "      <td>1028.000000</td>\n",
              "      <td>1028.000000</td>\n",
              "      <td>1028.000000</td>\n",
              "      <td>1028.000000</td>\n",
              "      <td>1028.000000</td>\n",
              "    </tr>\n",
              "    <tr>\n",
              "      <th>mean</th>\n",
              "      <td>36.999027</td>\n",
              "      <td>0.167315</td>\n",
              "      <td>806.551556</td>\n",
              "      <td>9.010700</td>\n",
              "      <td>2.873541</td>\n",
              "      <td>1.0</td>\n",
              "      <td>710.198444</td>\n",
              "      <td>2.719844</td>\n",
              "      <td>65.451362</td>\n",
              "      <td>2.731518</td>\n",
              "      <td>2.093385</td>\n",
              "      <td>2.757782</td>\n",
              "      <td>6632.573930</td>\n",
              "      <td>14243.531128</td>\n",
              "      <td>2.697471</td>\n",
              "      <td>15.172179</td>\n",
              "      <td>3.152724</td>\n",
              "      <td>2.732490</td>\n",
              "      <td>0.758755</td>\n",
              "      <td>11.417315</td>\n",
              "      <td>2.769455</td>\n",
              "      <td>2.763619</td>\n",
              "      <td>7.100195</td>\n",
              "      <td>4.263619</td>\n",
              "      <td>2.210117</td>\n",
              "      <td>4.141051</td>\n",
              "      <td>513.500000</td>\n",
              "    </tr>\n",
              "    <tr>\n",
              "      <th>std</th>\n",
              "      <td>9.444297</td>\n",
              "      <td>0.373439</td>\n",
              "      <td>407.043735</td>\n",
              "      <td>8.078418</td>\n",
              "      <td>1.032840</td>\n",
              "      <td>0.0</td>\n",
              "      <td>418.513656</td>\n",
              "      <td>1.089614</td>\n",
              "      <td>20.274229</td>\n",
              "      <td>0.703240</td>\n",
              "      <td>1.141854</td>\n",
              "      <td>1.105306</td>\n",
              "      <td>4855.747841</td>\n",
              "      <td>7048.768076</td>\n",
              "      <td>2.527534</td>\n",
              "      <td>3.647641</td>\n",
              "      <td>0.359896</td>\n",
              "      <td>1.088774</td>\n",
              "      <td>0.836236</td>\n",
              "      <td>8.015441</td>\n",
              "      <td>1.302518</td>\n",
              "      <td>0.703005</td>\n",
              "      <td>6.316289</td>\n",
              "      <td>3.630387</td>\n",
              "      <td>3.288559</td>\n",
              "      <td>3.608460</td>\n",
              "      <td>296.902341</td>\n",
              "    </tr>\n",
              "    <tr>\n",
              "      <th>min</th>\n",
              "      <td>18.000000</td>\n",
              "      <td>0.000000</td>\n",
              "      <td>102.000000</td>\n",
              "      <td>1.000000</td>\n",
              "      <td>1.000000</td>\n",
              "      <td>1.0</td>\n",
              "      <td>1.000000</td>\n",
              "      <td>1.000000</td>\n",
              "      <td>30.000000</td>\n",
              "      <td>1.000000</td>\n",
              "      <td>1.000000</td>\n",
              "      <td>1.000000</td>\n",
              "      <td>1009.000000</td>\n",
              "      <td>2094.000000</td>\n",
              "      <td>0.000000</td>\n",
              "      <td>11.000000</td>\n",
              "      <td>3.000000</td>\n",
              "      <td>1.000000</td>\n",
              "      <td>0.000000</td>\n",
              "      <td>0.000000</td>\n",
              "      <td>0.000000</td>\n",
              "      <td>1.000000</td>\n",
              "      <td>0.000000</td>\n",
              "      <td>0.000000</td>\n",
              "      <td>0.000000</td>\n",
              "      <td>0.000000</td>\n",
              "      <td>0.000000</td>\n",
              "    </tr>\n",
              "    <tr>\n",
              "      <th>25%</th>\n",
              "      <td>30.000000</td>\n",
              "      <td>0.000000</td>\n",
              "      <td>465.750000</td>\n",
              "      <td>2.000000</td>\n",
              "      <td>2.000000</td>\n",
              "      <td>1.0</td>\n",
              "      <td>351.750000</td>\n",
              "      <td>2.000000</td>\n",
              "      <td>48.000000</td>\n",
              "      <td>2.000000</td>\n",
              "      <td>1.000000</td>\n",
              "      <td>2.000000</td>\n",
              "      <td>2886.000000</td>\n",
              "      <td>8259.750000</td>\n",
              "      <td>1.000000</td>\n",
              "      <td>12.000000</td>\n",
              "      <td>3.000000</td>\n",
              "      <td>2.000000</td>\n",
              "      <td>0.000000</td>\n",
              "      <td>6.000000</td>\n",
              "      <td>2.000000</td>\n",
              "      <td>2.000000</td>\n",
              "      <td>3.000000</td>\n",
              "      <td>2.000000</td>\n",
              "      <td>0.000000</td>\n",
              "      <td>2.000000</td>\n",
              "      <td>256.750000</td>\n",
              "    </tr>\n",
              "    <tr>\n",
              "      <th>50%</th>\n",
              "      <td>36.000000</td>\n",
              "      <td>0.000000</td>\n",
              "      <td>813.000000</td>\n",
              "      <td>7.000000</td>\n",
              "      <td>3.000000</td>\n",
              "      <td>1.0</td>\n",
              "      <td>701.500000</td>\n",
              "      <td>3.000000</td>\n",
              "      <td>65.000000</td>\n",
              "      <td>3.000000</td>\n",
              "      <td>2.000000</td>\n",
              "      <td>3.000000</td>\n",
              "      <td>4907.500000</td>\n",
              "      <td>14074.500000</td>\n",
              "      <td>2.000000</td>\n",
              "      <td>14.000000</td>\n",
              "      <td>3.000000</td>\n",
              "      <td>3.000000</td>\n",
              "      <td>1.000000</td>\n",
              "      <td>10.000000</td>\n",
              "      <td>3.000000</td>\n",
              "      <td>3.000000</td>\n",
              "      <td>5.000000</td>\n",
              "      <td>3.000000</td>\n",
              "      <td>1.000000</td>\n",
              "      <td>3.000000</td>\n",
              "      <td>513.500000</td>\n",
              "    </tr>\n",
              "    <tr>\n",
              "      <th>75%</th>\n",
              "      <td>43.000000</td>\n",
              "      <td>0.000000</td>\n",
              "      <td>1157.250000</td>\n",
              "      <td>13.000000</td>\n",
              "      <td>4.000000</td>\n",
              "      <td>1.0</td>\n",
              "      <td>1069.250000</td>\n",
              "      <td>4.000000</td>\n",
              "      <td>83.000000</td>\n",
              "      <td>3.000000</td>\n",
              "      <td>3.000000</td>\n",
              "      <td>4.000000</td>\n",
              "      <td>8729.500000</td>\n",
              "      <td>20342.250000</td>\n",
              "      <td>4.000000</td>\n",
              "      <td>18.000000</td>\n",
              "      <td>3.000000</td>\n",
              "      <td>4.000000</td>\n",
              "      <td>1.000000</td>\n",
              "      <td>16.000000</td>\n",
              "      <td>3.000000</td>\n",
              "      <td>3.000000</td>\n",
              "      <td>9.000000</td>\n",
              "      <td>7.000000</td>\n",
              "      <td>3.000000</td>\n",
              "      <td>7.000000</td>\n",
              "      <td>770.250000</td>\n",
              "    </tr>\n",
              "    <tr>\n",
              "      <th>max</th>\n",
              "      <td>60.000000</td>\n",
              "      <td>1.000000</td>\n",
              "      <td>1499.000000</td>\n",
              "      <td>29.000000</td>\n",
              "      <td>5.000000</td>\n",
              "      <td>1.0</td>\n",
              "      <td>1447.000000</td>\n",
              "      <td>4.000000</td>\n",
              "      <td>100.000000</td>\n",
              "      <td>4.000000</td>\n",
              "      <td>5.000000</td>\n",
              "      <td>4.000000</td>\n",
              "      <td>19999.000000</td>\n",
              "      <td>26999.000000</td>\n",
              "      <td>9.000000</td>\n",
              "      <td>25.000000</td>\n",
              "      <td>4.000000</td>\n",
              "      <td>4.000000</td>\n",
              "      <td>3.000000</td>\n",
              "      <td>40.000000</td>\n",
              "      <td>6.000000</td>\n",
              "      <td>4.000000</td>\n",
              "      <td>40.000000</td>\n",
              "      <td>18.000000</td>\n",
              "      <td>15.000000</td>\n",
              "      <td>17.000000</td>\n",
              "      <td>1027.000000</td>\n",
              "    </tr>\n",
              "  </tbody>\n",
              "</table>\n",
              "</div>"
            ],
            "text/plain": [
              "               Age    Attrition  ...  YearsWithCurrManager           ID\n",
              "count  1028.000000  1028.000000  ...           1028.000000  1028.000000\n",
              "mean     36.999027     0.167315  ...              4.141051   513.500000\n",
              "std       9.444297     0.373439  ...              3.608460   296.902341\n",
              "min      18.000000     0.000000  ...              0.000000     0.000000\n",
              "25%      30.000000     0.000000  ...              2.000000   256.750000\n",
              "50%      36.000000     0.000000  ...              3.000000   513.500000\n",
              "75%      43.000000     0.000000  ...              7.000000   770.250000\n",
              "max      60.000000     1.000000  ...             17.000000  1027.000000\n",
              "\n",
              "[8 rows x 27 columns]"
            ]
          },
          "metadata": {
            "tags": []
          },
          "execution_count": 6
        }
      ]
    },
    {
      "cell_type": "markdown",
      "metadata": {
        "id": "aiByk21xYXod",
        "colab_type": "text"
      },
      "source": [
        "## Instructions:\n",
        "\n",
        "* You are required to use a classifier, which can predict the `Attrition` for the employees. \n",
        "* Before implementing any model, you will have to apply suitable encoding to the features and implement exploratory data analysis to know your data better. \n",
        "* You can either define your own custom-made classifer or select classifier(s) available in the `scikit-learn`.\n",
        "* You are supposed to implement a minimum of three classifiers (e.g.  `RandomForestClassifier`, `XGBClassifier`, `DecisionTreeClassifier`, `KNeighborsClassifier`, etc.) and evaluate which one is giving the best peformance. \n",
        "* For each of the classifier,  report the accuracy, precision, recall, roc curve, etc. "
      ]
    },
    {
      "cell_type": "code",
      "metadata": {
        "id": "owXYBnLAIOvw",
        "colab_type": "code",
        "colab": {
          "base_uri": "https://localhost:8080/",
          "height": 1000
        },
        "outputId": "8766c008-3bef-49e9-cbf7-b63a35d1dbd4"
      },
      "source": [
        "attrition_data.hist(figsize=(15,15))"
      ],
      "execution_count": 7,
      "outputs": [
        {
          "output_type": "execute_result",
          "data": {
            "text/plain": [
              "array([[<matplotlib.axes._subplots.AxesSubplot object at 0x7fcae838fda0>,\n",
              "        <matplotlib.axes._subplots.AxesSubplot object at 0x7fcae8362e48>,\n",
              "        <matplotlib.axes._subplots.AxesSubplot object at 0x7fcae83230f0>,\n",
              "        <matplotlib.axes._subplots.AxesSubplot object at 0x7fcae82d6358>,\n",
              "        <matplotlib.axes._subplots.AxesSubplot object at 0x7fcae828b5c0>],\n",
              "       [<matplotlib.axes._subplots.AxesSubplot object at 0x7fcae823e828>,\n",
              "        <matplotlib.axes._subplots.AxesSubplot object at 0x7fcae81f0a90>,\n",
              "        <matplotlib.axes._subplots.AxesSubplot object at 0x7fcae8224cc0>,\n",
              "        <matplotlib.axes._subplots.AxesSubplot object at 0x7fcae8224d30>,\n",
              "        <matplotlib.axes._subplots.AxesSubplot object at 0x7fcae8197208>],\n",
              "       [<matplotlib.axes._subplots.AxesSubplot object at 0x7fcae814c470>,\n",
              "        <matplotlib.axes._subplots.AxesSubplot object at 0x7fcae80fe6d8>,\n",
              "        <matplotlib.axes._subplots.AxesSubplot object at 0x7fcae80b1940>,\n",
              "        <matplotlib.axes._subplots.AxesSubplot object at 0x7fcae80e4ba8>,\n",
              "        <matplotlib.axes._subplots.AxesSubplot object at 0x7fcae809ae10>],\n",
              "       [<matplotlib.axes._subplots.AxesSubplot object at 0x7fcae805a0b8>,\n",
              "        <matplotlib.axes._subplots.AxesSubplot object at 0x7fcae800b320>,\n",
              "        <matplotlib.axes._subplots.AxesSubplot object at 0x7fcae7fc1588>,\n",
              "        <matplotlib.axes._subplots.AxesSubplot object at 0x7fcae7f737f0>,\n",
              "        <matplotlib.axes._subplots.AxesSubplot object at 0x7fcae7fa4a58>],\n",
              "       [<matplotlib.axes._subplots.AxesSubplot object at 0x7fcae7f57cc0>,\n",
              "        <matplotlib.axes._subplots.AxesSubplot object at 0x7fcae7f0ef28>,\n",
              "        <matplotlib.axes._subplots.AxesSubplot object at 0x7fcae7ece1d0>,\n",
              "        <matplotlib.axes._subplots.AxesSubplot object at 0x7fcae7e7f438>,\n",
              "        <matplotlib.axes._subplots.AxesSubplot object at 0x7fcae7e356a0>],\n",
              "       [<matplotlib.axes._subplots.AxesSubplot object at 0x7fcae7de8908>,\n",
              "        <matplotlib.axes._subplots.AxesSubplot object at 0x7fcae7e19b70>,\n",
              "        <matplotlib.axes._subplots.AxesSubplot object at 0x7fcae7dcedd8>,\n",
              "        <matplotlib.axes._subplots.AxesSubplot object at 0x7fcae7d8f080>,\n",
              "        <matplotlib.axes._subplots.AxesSubplot object at 0x7fcae7d412e8>]],\n",
              "      dtype=object)"
            ]
          },
          "metadata": {
            "tags": []
          },
          "execution_count": 7
        },
        {
          "output_type": "display_data",
          "data": {
            "image/png": "[encoded data removed]",
            "text/plain": [
              "<Figure size 1080x1080 with 30 Axes>"
            ]
          },
          "metadata": {
            "tags": [],
            "needs_background": "light"
          }
        }
      ]
    },
    {
      "cell_type": "code",
      "metadata": {
        "id": "WCsNfLOAKnk3",
        "colab_type": "code",
        "colab": {}
      },
      "source": [
        "# by seeing the histogram 'EmployeeCount','EmployeeNumber','ID' are relunctant\n",
        "# removing these features \n",
        "attrition_data.drop(columns=['EmployeeCount','EmployeeNumber','ID'], axis=1, inplace=True)"
      ],
      "execution_count": 0,
      "outputs": []
    },
    {
      "cell_type": "code",
      "metadata": {
        "id": "aouyT7gZL3ba",
        "colab_type": "code",
        "colab": {
          "base_uri": "https://localhost:8080/",
          "height": 552
        },
        "outputId": "7ea2b526-7a48-4ccc-d511-d33a025b3263"
      },
      "source": [
        "attrition_data.dtypes"
      ],
      "execution_count": 9,
      "outputs": [
        {
          "output_type": "execute_result",
          "data": {
            "text/plain": [
              "Age                          int64\n",
              "Attrition                    int64\n",
              "BusinessTravel              object\n",
              "DailyRate                    int64\n",
              "Department                  object\n",
              "DistanceFromHome             int64\n",
              "Education                    int64\n",
              "EducationField              object\n",
              "EnvironmentSatisfaction      int64\n",
              "Gender                      object\n",
              "HourlyRate                   int64\n",
              "JobInvolvement               int64\n",
              "JobLevel                     int64\n",
              "JobRole                     object\n",
              "JobSatisfaction              int64\n",
              "MaritalStatus               object\n",
              "MonthlyIncome                int64\n",
              "MonthlyRate                  int64\n",
              "NumCompaniesWorked           int64\n",
              "OverTime                    object\n",
              "PercentSalaryHike            int64\n",
              "PerformanceRating            int64\n",
              "RelationshipSatisfaction     int64\n",
              "StockOptionLevel             int64\n",
              "TotalWorkingYears            int64\n",
              "TrainingTimesLastYear        int64\n",
              "WorkLifeBalance              int64\n",
              "YearsAtCompany               int64\n",
              "YearsInCurrentRole           int64\n",
              "YearsSinceLastPromotion      int64\n",
              "YearsWithCurrManager         int64\n",
              "dtype: object"
            ]
          },
          "metadata": {
            "tags": []
          },
          "execution_count": 9
        }
      ]
    },
    {
      "cell_type": "code",
      "metadata": {
        "id": "QydQJTcb6-6Z",
        "colab_type": "code",
        "colab": {
          "base_uri": "https://localhost:8080/",
          "height": 70
        },
        "outputId": "e4bcdb62-6b52-4a6d-d135-84c3feb4058d"
      },
      "source": [
        "# categorical and numerical variables\n",
        "categorical = [var for var in attrition_data.columns if attrition_data[var].dtype=='O']\n",
        "print(\"Categorical variables are:\",categorical)\n",
        "numerical = [var for var in attrition_data.columns if attrition_data[var].dtype!='O']\n",
        "print(\"Numerical variables are:\",numerical)\n"
      ],
      "execution_count": 14,
      "outputs": [
        {
          "output_type": "stream",
          "text": [
            "Categorical variables are: ['BusinessTravel', 'Department', 'EducationField', 'Gender', 'JobRole', 'MaritalStatus', 'OverTime']\n",
            "Numerical variables are: ['Age', 'Attrition', 'DailyRate', 'DistanceFromHome', 'Education', 'EnvironmentSatisfaction', 'HourlyRate', 'JobInvolvement', 'JobLevel', 'JobSatisfaction', 'MonthlyIncome', 'MonthlyRate', 'NumCompaniesWorked', 'PercentSalaryHike', 'PerformanceRating', 'RelationshipSatisfaction', 'StockOptionLevel', 'TotalWorkingYears', 'TrainingTimesLastYear', 'WorkLifeBalance', 'YearsAtCompany', 'YearsInCurrentRole', 'YearsSinceLastPromotion', 'YearsWithCurrManager']\n"
          ],
          "name": "stdout"
        }
      ]
    },
    {
      "cell_type": "code",
      "metadata": {
        "id": "t_Z3E8BI6_AK",
        "colab_type": "code",
        "colab": {
          "base_uri": "https://localhost:8080/",
          "height": 280
        },
        "outputId": "fc89a55c-d764-4a21-dafb-1d4d450ab37c"
      },
      "source": [
        "# seperating categorical and numerical data\n",
        "cat_features = attrition_data[categorical]\n",
        "num_features = attrition_data[numerical]\n",
        "num_features.drop('Attrition', axis=1, inplace=True)\n",
        "cat_features.head()"
      ],
      "execution_count": 37,
      "outputs": [
        {
          "output_type": "stream",
          "text": [
            "/usr/local/lib/python3.6/dist-packages/pandas/core/frame.py:3997: SettingWithCopyWarning: \n",
            "A value is trying to be set on a copy of a slice from a DataFrame\n",
            "\n",
            "See the caveats in the documentation: https://pandas.pydata.org/pandas-docs/stable/user_guide/indexing.html#returning-a-view-versus-a-copy\n",
            "  errors=errors,\n"
          ],
          "name": "stderr"
        },
        {
          "output_type": "execute_result",
          "data": {
            "text/html": [
              "<div>\n",
              "<style scoped>\n",
              "    .dataframe tbody tr th:only-of-type {\n",
              "        vertical-align: middle;\n",
              "    }\n",
              "\n",
              "    .dataframe tbody tr th {\n",
              "        vertical-align: top;\n",
              "    }\n",
              "\n",
              "    .dataframe thead th {\n",
              "        text-align: right;\n",
              "    }\n",
              "</style>\n",
              "<table border=\"1\" class=\"dataframe\">\n",
              "  <thead>\n",
              "    <tr style=\"text-align: right;\">\n",
              "      <th></th>\n",
              "      <th>BusinessTravel</th>\n",
              "      <th>Department</th>\n",
              "      <th>EducationField</th>\n",
              "      <th>Gender</th>\n",
              "      <th>JobRole</th>\n",
              "      <th>MaritalStatus</th>\n",
              "      <th>OverTime</th>\n",
              "    </tr>\n",
              "  </thead>\n",
              "  <tbody>\n",
              "    <tr>\n",
              "      <th>0</th>\n",
              "      <td>Travel_Rarely</td>\n",
              "      <td>Sales</td>\n",
              "      <td>Life Sciences</td>\n",
              "      <td>Female</td>\n",
              "      <td>Sales Executive</td>\n",
              "      <td>Single</td>\n",
              "      <td>Yes</td>\n",
              "    </tr>\n",
              "    <tr>\n",
              "      <th>1</th>\n",
              "      <td>Travel_Frequently</td>\n",
              "      <td>Research &amp; Development</td>\n",
              "      <td>Life Sciences</td>\n",
              "      <td>Male</td>\n",
              "      <td>Research Scientist</td>\n",
              "      <td>Married</td>\n",
              "      <td>No</td>\n",
              "    </tr>\n",
              "    <tr>\n",
              "      <th>2</th>\n",
              "      <td>Travel_Rarely</td>\n",
              "      <td>Research &amp; Development</td>\n",
              "      <td>Other</td>\n",
              "      <td>Male</td>\n",
              "      <td>Laboratory Technician</td>\n",
              "      <td>Single</td>\n",
              "      <td>Yes</td>\n",
              "    </tr>\n",
              "    <tr>\n",
              "      <th>3</th>\n",
              "      <td>Travel_Frequently</td>\n",
              "      <td>Research &amp; Development</td>\n",
              "      <td>Life Sciences</td>\n",
              "      <td>Female</td>\n",
              "      <td>Research Scientist</td>\n",
              "      <td>Married</td>\n",
              "      <td>Yes</td>\n",
              "    </tr>\n",
              "    <tr>\n",
              "      <th>4</th>\n",
              "      <td>Travel_Rarely</td>\n",
              "      <td>Research &amp; Development</td>\n",
              "      <td>Medical</td>\n",
              "      <td>Male</td>\n",
              "      <td>Laboratory Technician</td>\n",
              "      <td>Married</td>\n",
              "      <td>No</td>\n",
              "    </tr>\n",
              "  </tbody>\n",
              "</table>\n",
              "</div>"
            ],
            "text/plain": [
              "      BusinessTravel              Department  ... MaritalStatus OverTime\n",
              "0      Travel_Rarely                   Sales  ...        Single      Yes\n",
              "1  Travel_Frequently  Research & Development  ...       Married       No\n",
              "2      Travel_Rarely  Research & Development  ...        Single      Yes\n",
              "3  Travel_Frequently  Research & Development  ...       Married      Yes\n",
              "4      Travel_Rarely  Research & Development  ...       Married       No\n",
              "\n",
              "[5 rows x 7 columns]"
            ]
          },
          "metadata": {
            "tags": []
          },
          "execution_count": 37
        }
      ]
    },
    {
      "cell_type": "code",
      "metadata": {
        "id": "n1ZcdHwC6_G0",
        "colab_type": "code",
        "colab": {
          "base_uri": "https://localhost:8080/",
          "height": 196
        },
        "outputId": "99d7bcee-277e-4788-d071-0f959682f206"
      },
      "source": [
        "# converting categorical data into numerical \n",
        "from sklearn.preprocessing import LabelEncoder\n",
        "cat_features = cat_features.apply(LabelEncoder().fit_transform)\n",
        "cat_features.tail()"
      ],
      "execution_count": 38,
      "outputs": [
        {
          "output_type": "execute_result",
          "data": {
            "text/html": [
              "<div>\n",
              "<style scoped>\n",
              "    .dataframe tbody tr th:only-of-type {\n",
              "        vertical-align: middle;\n",
              "    }\n",
              "\n",
              "    .dataframe tbody tr th {\n",
              "        vertical-align: top;\n",
              "    }\n",
              "\n",
              "    .dataframe thead th {\n",
              "        text-align: right;\n",
              "    }\n",
              "</style>\n",
              "<table border=\"1\" class=\"dataframe\">\n",
              "  <thead>\n",
              "    <tr style=\"text-align: right;\">\n",
              "      <th></th>\n",
              "      <th>BusinessTravel</th>\n",
              "      <th>Department</th>\n",
              "      <th>EducationField</th>\n",
              "      <th>Gender</th>\n",
              "      <th>JobRole</th>\n",
              "      <th>MaritalStatus</th>\n",
              "      <th>OverTime</th>\n",
              "    </tr>\n",
              "  </thead>\n",
              "  <tbody>\n",
              "    <tr>\n",
              "      <th>1023</th>\n",
              "      <td>2</td>\n",
              "      <td>1</td>\n",
              "      <td>1</td>\n",
              "      <td>0</td>\n",
              "      <td>6</td>\n",
              "      <td>1</td>\n",
              "      <td>0</td>\n",
              "    </tr>\n",
              "    <tr>\n",
              "      <th>1024</th>\n",
              "      <td>2</td>\n",
              "      <td>1</td>\n",
              "      <td>3</td>\n",
              "      <td>0</td>\n",
              "      <td>5</td>\n",
              "      <td>1</td>\n",
              "      <td>0</td>\n",
              "    </tr>\n",
              "    <tr>\n",
              "      <th>1025</th>\n",
              "      <td>2</td>\n",
              "      <td>2</td>\n",
              "      <td>3</td>\n",
              "      <td>0</td>\n",
              "      <td>7</td>\n",
              "      <td>1</td>\n",
              "      <td>1</td>\n",
              "    </tr>\n",
              "    <tr>\n",
              "      <th>1026</th>\n",
              "      <td>2</td>\n",
              "      <td>2</td>\n",
              "      <td>2</td>\n",
              "      <td>1</td>\n",
              "      <td>7</td>\n",
              "      <td>1</td>\n",
              "      <td>0</td>\n",
              "    </tr>\n",
              "    <tr>\n",
              "      <th>1027</th>\n",
              "      <td>2</td>\n",
              "      <td>1</td>\n",
              "      <td>1</td>\n",
              "      <td>0</td>\n",
              "      <td>2</td>\n",
              "      <td>1</td>\n",
              "      <td>0</td>\n",
              "    </tr>\n",
              "  </tbody>\n",
              "</table>\n",
              "</div>"
            ],
            "text/plain": [
              "      BusinessTravel  Department  ...  MaritalStatus  OverTime\n",
              "1023               2           1  ...              1         0\n",
              "1024               2           1  ...              1         0\n",
              "1025               2           2  ...              1         1\n",
              "1026               2           2  ...              1         0\n",
              "1027               2           1  ...              1         0\n",
              "\n",
              "[5 rows x 7 columns]"
            ]
          },
          "metadata": {
            "tags": []
          },
          "execution_count": 38
        }
      ]
    },
    {
      "cell_type": "code",
      "metadata": {
        "id": "0xNGX7Yi6_Lu",
        "colab_type": "code",
        "colab": {
          "base_uri": "https://localhost:8080/",
          "height": 150
        },
        "outputId": "20986155-9f9c-4939-a7b7-a7f46c32d037"
      },
      "source": [
        "# combining both categorical and numerical data\n",
        "x = pd.concat([cat_features, num_features], axis=1) # features \n",
        "print(x.head())\n",
        "\n",
        "# label \n",
        "y = attrition_data['Attrition']\n",
        "# y.head()"
      ],
      "execution_count": 60,
      "outputs": [
        {
          "output_type": "stream",
          "text": [
            "   BusinessTravel  Department  ...  YearsSinceLastPromotion  YearsWithCurrManager\n",
            "0               2           2  ...                        0                     5\n",
            "1               1           1  ...                        1                     7\n",
            "2               2           1  ...                        0                     0\n",
            "3               1           1  ...                        3                     0\n",
            "4               2           1  ...                        2                     2\n",
            "\n",
            "[5 rows x 30 columns]\n"
          ],
          "name": "stdout"
        }
      ]
    },
    {
      "cell_type": "code",
      "metadata": {
        "id": "aG-BVlc70VI5",
        "colab_type": "code",
        "colab": {
          "base_uri": "https://localhost:8080/",
          "height": 306
        },
        "outputId": "e1be22e8-d5c4-4588-cf98-7c29d0cabf1e"
      },
      "source": [
        "x.describe()"
      ],
      "execution_count": 61,
      "outputs": [
        {
          "output_type": "execute_result",
          "data": {
            "text/html": [
              "<div>\n",
              "<style scoped>\n",
              "    .dataframe tbody tr th:only-of-type {\n",
              "        vertical-align: middle;\n",
              "    }\n",
              "\n",
              "    .dataframe tbody tr th {\n",
              "        vertical-align: top;\n",
              "    }\n",
              "\n",
              "    .dataframe thead th {\n",
              "        text-align: right;\n",
              "    }\n",
              "</style>\n",
              "<table border=\"1\" class=\"dataframe\">\n",
              "  <thead>\n",
              "    <tr style=\"text-align: right;\">\n",
              "      <th></th>\n",
              "      <th>BusinessTravel</th>\n",
              "      <th>Department</th>\n",
              "      <th>EducationField</th>\n",
              "      <th>Gender</th>\n",
              "      <th>JobRole</th>\n",
              "      <th>MaritalStatus</th>\n",
              "      <th>OverTime</th>\n",
              "      <th>Age</th>\n",
              "      <th>DailyRate</th>\n",
              "      <th>DistanceFromHome</th>\n",
              "      <th>Education</th>\n",
              "      <th>EnvironmentSatisfaction</th>\n",
              "      <th>HourlyRate</th>\n",
              "      <th>JobInvolvement</th>\n",
              "      <th>JobLevel</th>\n",
              "      <th>JobSatisfaction</th>\n",
              "      <th>MonthlyIncome</th>\n",
              "      <th>MonthlyRate</th>\n",
              "      <th>NumCompaniesWorked</th>\n",
              "      <th>PercentSalaryHike</th>\n",
              "      <th>PerformanceRating</th>\n",
              "      <th>RelationshipSatisfaction</th>\n",
              "      <th>StockOptionLevel</th>\n",
              "      <th>TotalWorkingYears</th>\n",
              "      <th>TrainingTimesLastYear</th>\n",
              "      <th>WorkLifeBalance</th>\n",
              "      <th>YearsAtCompany</th>\n",
              "      <th>YearsInCurrentRole</th>\n",
              "      <th>YearsSinceLastPromotion</th>\n",
              "      <th>YearsWithCurrManager</th>\n",
              "    </tr>\n",
              "  </thead>\n",
              "  <tbody>\n",
              "    <tr>\n",
              "      <th>count</th>\n",
              "      <td>1028.000000</td>\n",
              "      <td>1028.000000</td>\n",
              "      <td>1028.000000</td>\n",
              "      <td>1028.000000</td>\n",
              "      <td>1028.000000</td>\n",
              "      <td>1028.000000</td>\n",
              "      <td>1028.000000</td>\n",
              "      <td>1028.000000</td>\n",
              "      <td>1028.000000</td>\n",
              "      <td>1028.000000</td>\n",
              "      <td>1028.000000</td>\n",
              "      <td>1028.000000</td>\n",
              "      <td>1028.000000</td>\n",
              "      <td>1028.000000</td>\n",
              "      <td>1028.000000</td>\n",
              "      <td>1028.000000</td>\n",
              "      <td>1028.000000</td>\n",
              "      <td>1028.000000</td>\n",
              "      <td>1028.000000</td>\n",
              "      <td>1028.000000</td>\n",
              "      <td>1028.000000</td>\n",
              "      <td>1028.000000</td>\n",
              "      <td>1028.000000</td>\n",
              "      <td>1028.000000</td>\n",
              "      <td>1028.000000</td>\n",
              "      <td>1028.000000</td>\n",
              "      <td>1028.000000</td>\n",
              "      <td>1028.000000</td>\n",
              "      <td>1028.000000</td>\n",
              "      <td>1028.000000</td>\n",
              "    </tr>\n",
              "    <tr>\n",
              "      <th>mean</th>\n",
              "      <td>1.609922</td>\n",
              "      <td>1.265564</td>\n",
              "      <td>2.240272</td>\n",
              "      <td>0.580739</td>\n",
              "      <td>4.491245</td>\n",
              "      <td>1.107004</td>\n",
              "      <td>0.293774</td>\n",
              "      <td>36.999027</td>\n",
              "      <td>806.551556</td>\n",
              "      <td>9.010700</td>\n",
              "      <td>2.873541</td>\n",
              "      <td>2.719844</td>\n",
              "      <td>65.451362</td>\n",
              "      <td>2.731518</td>\n",
              "      <td>2.093385</td>\n",
              "      <td>2.757782</td>\n",
              "      <td>6632.573930</td>\n",
              "      <td>14243.531128</td>\n",
              "      <td>2.697471</td>\n",
              "      <td>15.172179</td>\n",
              "      <td>3.152724</td>\n",
              "      <td>2.732490</td>\n",
              "      <td>0.758755</td>\n",
              "      <td>11.417315</td>\n",
              "      <td>2.769455</td>\n",
              "      <td>2.763619</td>\n",
              "      <td>7.100195</td>\n",
              "      <td>4.263619</td>\n",
              "      <td>2.210117</td>\n",
              "      <td>4.141051</td>\n",
              "    </tr>\n",
              "    <tr>\n",
              "      <th>std</th>\n",
              "      <td>0.660898</td>\n",
              "      <td>0.515109</td>\n",
              "      <td>1.318601</td>\n",
              "      <td>0.493678</td>\n",
              "      <td>2.414844</td>\n",
              "      <td>0.739898</td>\n",
              "      <td>0.455712</td>\n",
              "      <td>9.444297</td>\n",
              "      <td>407.043735</td>\n",
              "      <td>8.078418</td>\n",
              "      <td>1.032840</td>\n",
              "      <td>1.089614</td>\n",
              "      <td>20.274229</td>\n",
              "      <td>0.703240</td>\n",
              "      <td>1.141854</td>\n",
              "      <td>1.105306</td>\n",
              "      <td>4855.747841</td>\n",
              "      <td>7048.768076</td>\n",
              "      <td>2.527534</td>\n",
              "      <td>3.647641</td>\n",
              "      <td>0.359896</td>\n",
              "      <td>1.088774</td>\n",
              "      <td>0.836236</td>\n",
              "      <td>8.015441</td>\n",
              "      <td>1.302518</td>\n",
              "      <td>0.703005</td>\n",
              "      <td>6.316289</td>\n",
              "      <td>3.630387</td>\n",
              "      <td>3.288559</td>\n",
              "      <td>3.608460</td>\n",
              "    </tr>\n",
              "    <tr>\n",
              "      <th>min</th>\n",
              "      <td>0.000000</td>\n",
              "      <td>0.000000</td>\n",
              "      <td>0.000000</td>\n",
              "      <td>0.000000</td>\n",
              "      <td>0.000000</td>\n",
              "      <td>0.000000</td>\n",
              "      <td>0.000000</td>\n",
              "      <td>18.000000</td>\n",
              "      <td>102.000000</td>\n",
              "      <td>1.000000</td>\n",
              "      <td>1.000000</td>\n",
              "      <td>1.000000</td>\n",
              "      <td>30.000000</td>\n",
              "      <td>1.000000</td>\n",
              "      <td>1.000000</td>\n",
              "      <td>1.000000</td>\n",
              "      <td>1009.000000</td>\n",
              "      <td>2094.000000</td>\n",
              "      <td>0.000000</td>\n",
              "      <td>11.000000</td>\n",
              "      <td>3.000000</td>\n",
              "      <td>1.000000</td>\n",
              "      <td>0.000000</td>\n",
              "      <td>0.000000</td>\n",
              "      <td>0.000000</td>\n",
              "      <td>1.000000</td>\n",
              "      <td>0.000000</td>\n",
              "      <td>0.000000</td>\n",
              "      <td>0.000000</td>\n",
              "      <td>0.000000</td>\n",
              "    </tr>\n",
              "    <tr>\n",
              "      <th>25%</th>\n",
              "      <td>1.000000</td>\n",
              "      <td>1.000000</td>\n",
              "      <td>1.000000</td>\n",
              "      <td>0.000000</td>\n",
              "      <td>2.000000</td>\n",
              "      <td>1.000000</td>\n",
              "      <td>0.000000</td>\n",
              "      <td>30.000000</td>\n",
              "      <td>465.750000</td>\n",
              "      <td>2.000000</td>\n",
              "      <td>2.000000</td>\n",
              "      <td>2.000000</td>\n",
              "      <td>48.000000</td>\n",
              "      <td>2.000000</td>\n",
              "      <td>1.000000</td>\n",
              "      <td>2.000000</td>\n",
              "      <td>2886.000000</td>\n",
              "      <td>8259.750000</td>\n",
              "      <td>1.000000</td>\n",
              "      <td>12.000000</td>\n",
              "      <td>3.000000</td>\n",
              "      <td>2.000000</td>\n",
              "      <td>0.000000</td>\n",
              "      <td>6.000000</td>\n",
              "      <td>2.000000</td>\n",
              "      <td>2.000000</td>\n",
              "      <td>3.000000</td>\n",
              "      <td>2.000000</td>\n",
              "      <td>0.000000</td>\n",
              "      <td>2.000000</td>\n",
              "    </tr>\n",
              "    <tr>\n",
              "      <th>50%</th>\n",
              "      <td>2.000000</td>\n",
              "      <td>1.000000</td>\n",
              "      <td>2.000000</td>\n",
              "      <td>1.000000</td>\n",
              "      <td>5.000000</td>\n",
              "      <td>1.000000</td>\n",
              "      <td>0.000000</td>\n",
              "      <td>36.000000</td>\n",
              "      <td>813.000000</td>\n",
              "      <td>7.000000</td>\n",
              "      <td>3.000000</td>\n",
              "      <td>3.000000</td>\n",
              "      <td>65.000000</td>\n",
              "      <td>3.000000</td>\n",
              "      <td>2.000000</td>\n",
              "      <td>3.000000</td>\n",
              "      <td>4907.500000</td>\n",
              "      <td>14074.500000</td>\n",
              "      <td>2.000000</td>\n",
              "      <td>14.000000</td>\n",
              "      <td>3.000000</td>\n",
              "      <td>3.000000</td>\n",
              "      <td>1.000000</td>\n",
              "      <td>10.000000</td>\n",
              "      <td>3.000000</td>\n",
              "      <td>3.000000</td>\n",
              "      <td>5.000000</td>\n",
              "      <td>3.000000</td>\n",
              "      <td>1.000000</td>\n",
              "      <td>3.000000</td>\n",
              "    </tr>\n",
              "    <tr>\n",
              "      <th>75%</th>\n",
              "      <td>2.000000</td>\n",
              "      <td>2.000000</td>\n",
              "      <td>3.000000</td>\n",
              "      <td>1.000000</td>\n",
              "      <td>7.000000</td>\n",
              "      <td>2.000000</td>\n",
              "      <td>1.000000</td>\n",
              "      <td>43.000000</td>\n",
              "      <td>1157.250000</td>\n",
              "      <td>13.000000</td>\n",
              "      <td>4.000000</td>\n",
              "      <td>4.000000</td>\n",
              "      <td>83.000000</td>\n",
              "      <td>3.000000</td>\n",
              "      <td>3.000000</td>\n",
              "      <td>4.000000</td>\n",
              "      <td>8729.500000</td>\n",
              "      <td>20342.250000</td>\n",
              "      <td>4.000000</td>\n",
              "      <td>18.000000</td>\n",
              "      <td>3.000000</td>\n",
              "      <td>4.000000</td>\n",
              "      <td>1.000000</td>\n",
              "      <td>16.000000</td>\n",
              "      <td>3.000000</td>\n",
              "      <td>3.000000</td>\n",
              "      <td>9.000000</td>\n",
              "      <td>7.000000</td>\n",
              "      <td>3.000000</td>\n",
              "      <td>7.000000</td>\n",
              "    </tr>\n",
              "    <tr>\n",
              "      <th>max</th>\n",
              "      <td>2.000000</td>\n",
              "      <td>2.000000</td>\n",
              "      <td>5.000000</td>\n",
              "      <td>1.000000</td>\n",
              "      <td>8.000000</td>\n",
              "      <td>2.000000</td>\n",
              "      <td>1.000000</td>\n",
              "      <td>60.000000</td>\n",
              "      <td>1499.000000</td>\n",
              "      <td>29.000000</td>\n",
              "      <td>5.000000</td>\n",
              "      <td>4.000000</td>\n",
              "      <td>100.000000</td>\n",
              "      <td>4.000000</td>\n",
              "      <td>5.000000</td>\n",
              "      <td>4.000000</td>\n",
              "      <td>19999.000000</td>\n",
              "      <td>26999.000000</td>\n",
              "      <td>9.000000</td>\n",
              "      <td>25.000000</td>\n",
              "      <td>4.000000</td>\n",
              "      <td>4.000000</td>\n",
              "      <td>3.000000</td>\n",
              "      <td>40.000000</td>\n",
              "      <td>6.000000</td>\n",
              "      <td>4.000000</td>\n",
              "      <td>40.000000</td>\n",
              "      <td>18.000000</td>\n",
              "      <td>15.000000</td>\n",
              "      <td>17.000000</td>\n",
              "    </tr>\n",
              "  </tbody>\n",
              "</table>\n",
              "</div>"
            ],
            "text/plain": [
              "       BusinessTravel  ...  YearsWithCurrManager\n",
              "count     1028.000000  ...           1028.000000\n",
              "mean         1.609922  ...              4.141051\n",
              "std          0.660898  ...              3.608460\n",
              "min          0.000000  ...              0.000000\n",
              "25%          1.000000  ...              2.000000\n",
              "50%          2.000000  ...              3.000000\n",
              "75%          2.000000  ...              7.000000\n",
              "max          2.000000  ...             17.000000\n",
              "\n",
              "[8 rows x 30 columns]"
            ]
          },
          "metadata": {
            "tags": []
          },
          "execution_count": 61
        }
      ]
    },
    {
      "cell_type": "code",
      "metadata": {
        "id": "LjxO5YxP6t_E",
        "colab_type": "code",
        "colab": {
          "base_uri": "https://localhost:8080/",
          "height": 1000
        },
        "outputId": "d91d208b-bbe8-4bc3-d3e2-af937de700da"
      },
      "source": [
        "x.hist(figsize=(15,15))"
      ],
      "execution_count": 62,
      "outputs": [
        {
          "output_type": "execute_result",
          "data": {
            "text/plain": [
              "array([[<matplotlib.axes._subplots.AxesSubplot object at 0x7fcae2cbf5c0>,\n",
              "        <matplotlib.axes._subplots.AxesSubplot object at 0x7fcae252a668>,\n",
              "        <matplotlib.axes._subplots.AxesSubplot object at 0x7fcae215ae10>,\n",
              "        <matplotlib.axes._subplots.AxesSubplot object at 0x7fcae21901d0>,\n",
              "        <matplotlib.axes._subplots.AxesSubplot object at 0x7fcae213c550>],\n",
              "       [<matplotlib.axes._subplots.AxesSubplot object at 0x7fcae20ec8d0>,\n",
              "        <matplotlib.axes._subplots.AxesSubplot object at 0x7fcae209ec50>,\n",
              "        <matplotlib.axes._subplots.AxesSubplot object at 0x7fcae20d1f98>,\n",
              "        <matplotlib.axes._subplots.AxesSubplot object at 0x7fcae205f048>,\n",
              "        <matplotlib.axes._subplots.AxesSubplot object at 0x7fcae2041710>],\n",
              "       [<matplotlib.axes._subplots.AxesSubplot object at 0x7fcae1ff3a90>,\n",
              "        <matplotlib.axes._subplots.AxesSubplot object at 0x7fcae1fa6e10>,\n",
              "        <matplotlib.axes._subplots.AxesSubplot object at 0x7fcae1f631d0>,\n",
              "        <matplotlib.axes._subplots.AxesSubplot object at 0x7fcae1f15550>,\n",
              "        <matplotlib.axes._subplots.AxesSubplot object at 0x7fcae1f468d0>],\n",
              "       [<matplotlib.axes._subplots.AxesSubplot object at 0x7fcae1efac50>,\n",
              "        <matplotlib.axes._subplots.AxesSubplot object at 0x7fcae1eadfd0>,\n",
              "        <matplotlib.axes._subplots.AxesSubplot object at 0x7fcae1e6a390>,\n",
              "        <matplotlib.axes._subplots.AxesSubplot object at 0x7fcae1e1d710>,\n",
              "        <matplotlib.axes._subplots.AxesSubplot object at 0x7fcae1e4ea90>],\n",
              "       [<matplotlib.axes._subplots.AxesSubplot object at 0x7fcae1e01e10>,\n",
              "        <matplotlib.axes._subplots.AxesSubplot object at 0x7fcae1dc01d0>,\n",
              "        <matplotlib.axes._subplots.AxesSubplot object at 0x7fcae1d72550>,\n",
              "        <matplotlib.axes._subplots.AxesSubplot object at 0x7fcae1d238d0>,\n",
              "        <matplotlib.axes._subplots.AxesSubplot object at 0x7fcae1cd6c50>],\n",
              "       [<matplotlib.axes._subplots.AxesSubplot object at 0x7fcae1d09fd0>,\n",
              "        <matplotlib.axes._subplots.AxesSubplot object at 0x7fcae1cc6390>,\n",
              "        <matplotlib.axes._subplots.AxesSubplot object at 0x7fcae1c78710>,\n",
              "        <matplotlib.axes._subplots.AxesSubplot object at 0x7fcae1c2ba90>,\n",
              "        <matplotlib.axes._subplots.AxesSubplot object at 0x7fcae1bdbe10>]],\n",
              "      dtype=object)"
            ]
          },
          "metadata": {
            "tags": []
          },
          "execution_count": 62
        },
        {
          "output_type": "display_data",
          "data": {
            "image/png": "[encoded data removed]",
            "text/plain": [
              "<Figure size 1080x1080 with 30 Axes>"
            ]
          },
          "metadata": {
            "tags": [],
            "needs_background": "light"
          }
        }
      ]
    },
    {
      "cell_type": "code",
      "metadata": {
        "id": "t6sAd16_6-_c",
        "colab_type": "code",
        "colab": {
          "base_uri": "https://localhost:8080/",
          "height": 423
        },
        "outputId": "7d35ce42-342e-4d6a-920c-1fe5f72d6c6e"
      },
      "source": [
        "# normalising the features \n",
        "from sklearn import preprocessing\n",
        "min_max_scaler = preprocessing.MinMaxScaler()\n",
        "x_scale = min_max_scaler.fit_transform(x)\n",
        "x_norm = pd.DataFrame(x_scale, columns=x.columns)\n",
        "x_norm.describe()"
      ],
      "execution_count": 63,
      "outputs": [
        {
          "output_type": "stream",
          "text": [
            "[[1.         1.         0.2        ... 0.22222222 0.         0.29411765]\n",
            " [0.5        0.5        0.2        ... 0.38888889 0.06666667 0.41176471]\n",
            " [1.         0.5        0.8        ... 0.         0.         0.        ]\n",
            " ...\n",
            " [1.         1.         0.6        ... 0.22222222 0.         0.17647059]\n",
            " [1.         1.         0.4        ... 0.16666667 0.         0.17647059]\n",
            " [1.         0.5        0.2        ... 0.22222222 0.         0.11764706]]\n"
          ],
          "name": "stdout"
        },
        {
          "output_type": "execute_result",
          "data": {
            "text/html": [
              "<div>\n",
              "<style scoped>\n",
              "    .dataframe tbody tr th:only-of-type {\n",
              "        vertical-align: middle;\n",
              "    }\n",
              "\n",
              "    .dataframe tbody tr th {\n",
              "        vertical-align: top;\n",
              "    }\n",
              "\n",
              "    .dataframe thead th {\n",
              "        text-align: right;\n",
              "    }\n",
              "</style>\n",
              "<table border=\"1\" class=\"dataframe\">\n",
              "  <thead>\n",
              "    <tr style=\"text-align: right;\">\n",
              "      <th></th>\n",
              "      <th>BusinessTravel</th>\n",
              "      <th>Department</th>\n",
              "      <th>EducationField</th>\n",
              "      <th>Gender</th>\n",
              "      <th>JobRole</th>\n",
              "      <th>MaritalStatus</th>\n",
              "      <th>OverTime</th>\n",
              "      <th>Age</th>\n",
              "      <th>DailyRate</th>\n",
              "      <th>DistanceFromHome</th>\n",
              "      <th>Education</th>\n",
              "      <th>EnvironmentSatisfaction</th>\n",
              "      <th>HourlyRate</th>\n",
              "      <th>JobInvolvement</th>\n",
              "      <th>JobLevel</th>\n",
              "      <th>JobSatisfaction</th>\n",
              "      <th>MonthlyIncome</th>\n",
              "      <th>MonthlyRate</th>\n",
              "      <th>NumCompaniesWorked</th>\n",
              "      <th>PercentSalaryHike</th>\n",
              "      <th>PerformanceRating</th>\n",
              "      <th>RelationshipSatisfaction</th>\n",
              "      <th>StockOptionLevel</th>\n",
              "      <th>TotalWorkingYears</th>\n",
              "      <th>TrainingTimesLastYear</th>\n",
              "      <th>WorkLifeBalance</th>\n",
              "      <th>YearsAtCompany</th>\n",
              "      <th>YearsInCurrentRole</th>\n",
              "      <th>YearsSinceLastPromotion</th>\n",
              "      <th>YearsWithCurrManager</th>\n",
              "    </tr>\n",
              "  </thead>\n",
              "  <tbody>\n",
              "    <tr>\n",
              "      <th>count</th>\n",
              "      <td>1028.000000</td>\n",
              "      <td>1028.000000</td>\n",
              "      <td>1028.000000</td>\n",
              "      <td>1028.000000</td>\n",
              "      <td>1028.000000</td>\n",
              "      <td>1028.000000</td>\n",
              "      <td>1028.000000</td>\n",
              "      <td>1028.000000</td>\n",
              "      <td>1028.000000</td>\n",
              "      <td>1028.000000</td>\n",
              "      <td>1028.000000</td>\n",
              "      <td>1028.000000</td>\n",
              "      <td>1028.000000</td>\n",
              "      <td>1028.000000</td>\n",
              "      <td>1028.000000</td>\n",
              "      <td>1028.000000</td>\n",
              "      <td>1028.000000</td>\n",
              "      <td>1028.000000</td>\n",
              "      <td>1028.000000</td>\n",
              "      <td>1028.000000</td>\n",
              "      <td>1028.000000</td>\n",
              "      <td>1028.000000</td>\n",
              "      <td>1028.000000</td>\n",
              "      <td>1028.000000</td>\n",
              "      <td>1028.000000</td>\n",
              "      <td>1028.000000</td>\n",
              "      <td>1028.000000</td>\n",
              "      <td>1028.000000</td>\n",
              "      <td>1028.000000</td>\n",
              "      <td>1028.000000</td>\n",
              "    </tr>\n",
              "    <tr>\n",
              "      <th>mean</th>\n",
              "      <td>0.804961</td>\n",
              "      <td>0.632782</td>\n",
              "      <td>0.448054</td>\n",
              "      <td>0.580739</td>\n",
              "      <td>0.561406</td>\n",
              "      <td>0.553502</td>\n",
              "      <td>0.293774</td>\n",
              "      <td>0.452358</td>\n",
              "      <td>0.504332</td>\n",
              "      <td>0.286096</td>\n",
              "      <td>0.468385</td>\n",
              "      <td>0.573281</td>\n",
              "      <td>0.506448</td>\n",
              "      <td>0.577173</td>\n",
              "      <td>0.273346</td>\n",
              "      <td>0.585927</td>\n",
              "      <td>0.296133</td>\n",
              "      <td>0.487835</td>\n",
              "      <td>0.299719</td>\n",
              "      <td>0.298013</td>\n",
              "      <td>0.152724</td>\n",
              "      <td>0.577497</td>\n",
              "      <td>0.252918</td>\n",
              "      <td>0.285433</td>\n",
              "      <td>0.461576</td>\n",
              "      <td>0.587873</td>\n",
              "      <td>0.177505</td>\n",
              "      <td>0.236868</td>\n",
              "      <td>0.147341</td>\n",
              "      <td>0.243591</td>\n",
              "    </tr>\n",
              "    <tr>\n",
              "      <th>std</th>\n",
              "      <td>0.330449</td>\n",
              "      <td>0.257554</td>\n",
              "      <td>0.263720</td>\n",
              "      <td>0.493678</td>\n",
              "      <td>0.301855</td>\n",
              "      <td>0.369949</td>\n",
              "      <td>0.455712</td>\n",
              "      <td>0.224864</td>\n",
              "      <td>0.291370</td>\n",
              "      <td>0.288515</td>\n",
              "      <td>0.258210</td>\n",
              "      <td>0.363205</td>\n",
              "      <td>0.289632</td>\n",
              "      <td>0.234413</td>\n",
              "      <td>0.285464</td>\n",
              "      <td>0.368435</td>\n",
              "      <td>0.255700</td>\n",
              "      <td>0.283026</td>\n",
              "      <td>0.280837</td>\n",
              "      <td>0.260546</td>\n",
              "      <td>0.359896</td>\n",
              "      <td>0.362925</td>\n",
              "      <td>0.278745</td>\n",
              "      <td>0.200386</td>\n",
              "      <td>0.217086</td>\n",
              "      <td>0.234335</td>\n",
              "      <td>0.157907</td>\n",
              "      <td>0.201688</td>\n",
              "      <td>0.219237</td>\n",
              "      <td>0.212262</td>\n",
              "    </tr>\n",
              "    <tr>\n",
              "      <th>min</th>\n",
              "      <td>0.000000</td>\n",
              "      <td>0.000000</td>\n",
              "      <td>0.000000</td>\n",
              "      <td>0.000000</td>\n",
              "      <td>0.000000</td>\n",
              "      <td>0.000000</td>\n",
              "      <td>0.000000</td>\n",
              "      <td>0.000000</td>\n",
              "      <td>0.000000</td>\n",
              "      <td>0.000000</td>\n",
              "      <td>0.000000</td>\n",
              "      <td>0.000000</td>\n",
              "      <td>0.000000</td>\n",
              "      <td>0.000000</td>\n",
              "      <td>0.000000</td>\n",
              "      <td>0.000000</td>\n",
              "      <td>0.000000</td>\n",
              "      <td>0.000000</td>\n",
              "      <td>0.000000</td>\n",
              "      <td>0.000000</td>\n",
              "      <td>0.000000</td>\n",
              "      <td>0.000000</td>\n",
              "      <td>0.000000</td>\n",
              "      <td>0.000000</td>\n",
              "      <td>0.000000</td>\n",
              "      <td>0.000000</td>\n",
              "      <td>0.000000</td>\n",
              "      <td>0.000000</td>\n",
              "      <td>0.000000</td>\n",
              "      <td>0.000000</td>\n",
              "    </tr>\n",
              "    <tr>\n",
              "      <th>25%</th>\n",
              "      <td>0.500000</td>\n",
              "      <td>0.500000</td>\n",
              "      <td>0.200000</td>\n",
              "      <td>0.000000</td>\n",
              "      <td>0.250000</td>\n",
              "      <td>0.500000</td>\n",
              "      <td>0.000000</td>\n",
              "      <td>0.285714</td>\n",
              "      <td>0.260379</td>\n",
              "      <td>0.035714</td>\n",
              "      <td>0.250000</td>\n",
              "      <td>0.333333</td>\n",
              "      <td>0.257143</td>\n",
              "      <td>0.333333</td>\n",
              "      <td>0.000000</td>\n",
              "      <td>0.333333</td>\n",
              "      <td>0.098841</td>\n",
              "      <td>0.247571</td>\n",
              "      <td>0.111111</td>\n",
              "      <td>0.071429</td>\n",
              "      <td>0.000000</td>\n",
              "      <td>0.333333</td>\n",
              "      <td>0.000000</td>\n",
              "      <td>0.150000</td>\n",
              "      <td>0.333333</td>\n",
              "      <td>0.333333</td>\n",
              "      <td>0.075000</td>\n",
              "      <td>0.111111</td>\n",
              "      <td>0.000000</td>\n",
              "      <td>0.117647</td>\n",
              "    </tr>\n",
              "    <tr>\n",
              "      <th>50%</th>\n",
              "      <td>1.000000</td>\n",
              "      <td>0.500000</td>\n",
              "      <td>0.400000</td>\n",
              "      <td>1.000000</td>\n",
              "      <td>0.625000</td>\n",
              "      <td>0.500000</td>\n",
              "      <td>0.000000</td>\n",
              "      <td>0.428571</td>\n",
              "      <td>0.508948</td>\n",
              "      <td>0.214286</td>\n",
              "      <td>0.500000</td>\n",
              "      <td>0.666667</td>\n",
              "      <td>0.500000</td>\n",
              "      <td>0.666667</td>\n",
              "      <td>0.250000</td>\n",
              "      <td>0.666667</td>\n",
              "      <td>0.205292</td>\n",
              "      <td>0.481048</td>\n",
              "      <td>0.222222</td>\n",
              "      <td>0.214286</td>\n",
              "      <td>0.000000</td>\n",
              "      <td>0.666667</td>\n",
              "      <td>0.333333</td>\n",
              "      <td>0.250000</td>\n",
              "      <td>0.500000</td>\n",
              "      <td>0.666667</td>\n",
              "      <td>0.125000</td>\n",
              "      <td>0.166667</td>\n",
              "      <td>0.066667</td>\n",
              "      <td>0.176471</td>\n",
              "    </tr>\n",
              "    <tr>\n",
              "      <th>75%</th>\n",
              "      <td>1.000000</td>\n",
              "      <td>1.000000</td>\n",
              "      <td>0.600000</td>\n",
              "      <td>1.000000</td>\n",
              "      <td>0.875000</td>\n",
              "      <td>1.000000</td>\n",
              "      <td>1.000000</td>\n",
              "      <td>0.595238</td>\n",
              "      <td>0.755369</td>\n",
              "      <td>0.428571</td>\n",
              "      <td>0.750000</td>\n",
              "      <td>1.000000</td>\n",
              "      <td>0.757143</td>\n",
              "      <td>0.666667</td>\n",
              "      <td>0.500000</td>\n",
              "      <td>1.000000</td>\n",
              "      <td>0.406556</td>\n",
              "      <td>0.732714</td>\n",
              "      <td>0.444444</td>\n",
              "      <td>0.500000</td>\n",
              "      <td>0.000000</td>\n",
              "      <td>1.000000</td>\n",
              "      <td>0.333333</td>\n",
              "      <td>0.400000</td>\n",
              "      <td>0.500000</td>\n",
              "      <td>0.666667</td>\n",
              "      <td>0.225000</td>\n",
              "      <td>0.388889</td>\n",
              "      <td>0.200000</td>\n",
              "      <td>0.411765</td>\n",
              "    </tr>\n",
              "    <tr>\n",
              "      <th>max</th>\n",
              "      <td>1.000000</td>\n",
              "      <td>1.000000</td>\n",
              "      <td>1.000000</td>\n",
              "      <td>1.000000</td>\n",
              "      <td>1.000000</td>\n",
              "      <td>1.000000</td>\n",
              "      <td>1.000000</td>\n",
              "      <td>1.000000</td>\n",
              "      <td>1.000000</td>\n",
              "      <td>1.000000</td>\n",
              "      <td>1.000000</td>\n",
              "      <td>1.000000</td>\n",
              "      <td>1.000000</td>\n",
              "      <td>1.000000</td>\n",
              "      <td>1.000000</td>\n",
              "      <td>1.000000</td>\n",
              "      <td>1.000000</td>\n",
              "      <td>1.000000</td>\n",
              "      <td>1.000000</td>\n",
              "      <td>1.000000</td>\n",
              "      <td>1.000000</td>\n",
              "      <td>1.000000</td>\n",
              "      <td>1.000000</td>\n",
              "      <td>1.000000</td>\n",
              "      <td>1.000000</td>\n",
              "      <td>1.000000</td>\n",
              "      <td>1.000000</td>\n",
              "      <td>1.000000</td>\n",
              "      <td>1.000000</td>\n",
              "      <td>1.000000</td>\n",
              "    </tr>\n",
              "  </tbody>\n",
              "</table>\n",
              "</div>"
            ],
            "text/plain": [
              "       BusinessTravel  ...  YearsWithCurrManager\n",
              "count     1028.000000  ...           1028.000000\n",
              "mean         0.804961  ...              0.243591\n",
              "std          0.330449  ...              0.212262\n",
              "min          0.000000  ...              0.000000\n",
              "25%          0.500000  ...              0.117647\n",
              "50%          1.000000  ...              0.176471\n",
              "75%          1.000000  ...              0.411765\n",
              "max          1.000000  ...              1.000000\n",
              "\n",
              "[8 rows x 30 columns]"
            ]
          },
          "metadata": {
            "tags": []
          },
          "execution_count": 63
        }
      ]
    },
    {
      "cell_type": "code",
      "metadata": {
        "id": "0WHgzZ_R7sIC",
        "colab_type": "code",
        "colab": {}
      },
      "source": [
        "# Features and Label\n",
        "X = x_norm # features\n",
        "Y = y   # label\n"
      ],
      "execution_count": 0,
      "outputs": []
    },
    {
      "cell_type": "markdown",
      "metadata": {
        "id": "-4XgeEvp7kjN",
        "colab_type": "text"
      },
      "source": [
        "#Creating model\n"
      ]
    },
    {
      "cell_type": "markdown",
      "metadata": {
        "id": "aB3ixfhCt6vL",
        "colab_type": "text"
      },
      "source": [
        "##01 Random Forest"
      ]
    },
    {
      "cell_type": "code",
      "metadata": {
        "id": "XccobXLe68mH",
        "colab_type": "code",
        "colab": {}
      },
      "source": [
        "# Random forest \n",
        "from sklearn.model_selection import train_test_split\n",
        "x_train, x_test,y_train, y_test = train_test_split(X,Y,test_size=0.2, random_state = 108)"
      ],
      "execution_count": 0,
      "outputs": []
    },
    {
      "cell_type": "code",
      "metadata": {
        "id": "ITTWkq5q_FmV",
        "colab_type": "code",
        "colab": {
          "base_uri": "https://localhost:8080/",
          "height": 50
        },
        "outputId": "69c7ea47-7dc2-4a5e-9b89-dcd985a6316f"
      },
      "source": [
        "# size of train and test data\n",
        "print(\"size of training data {}\\nsize of testing data {}\".format(len(x_train),len(x_test)))"
      ],
      "execution_count": 269,
      "outputs": [
        {
          "output_type": "stream",
          "text": [
            "size of training data 822\n",
            "size of testing data 206\n"
          ],
          "name": "stdout"
        }
      ]
    },
    {
      "cell_type": "code",
      "metadata": {
        "id": "HRcrlLfI_5BY",
        "colab_type": "code",
        "colab": {
          "base_uri": "https://localhost:8080/",
          "height": 150
        },
        "outputId": "bae3d88d-c209-4f7a-9f82-fb074d054ef9"
      },
      "source": [
        "# training model \n",
        "from sklearn.ensemble import RandomForestClassifier\n",
        "model1 = RandomForestClassifier(n_estimators=250, criterion='entropy', random_state=108)\n",
        "model1.fit(x_train, y_train)\n"
      ],
      "execution_count": 270,
      "outputs": [
        {
          "output_type": "execute_result",
          "data": {
            "text/plain": [
              "RandomForestClassifier(bootstrap=True, ccp_alpha=0.0, class_weight=None,\n",
              "                       criterion='entropy', max_depth=None, max_features='auto',\n",
              "                       max_leaf_nodes=None, max_samples=None,\n",
              "                       min_impurity_decrease=0.0, min_impurity_split=None,\n",
              "                       min_samples_leaf=1, min_samples_split=2,\n",
              "                       min_weight_fraction_leaf=0.0, n_estimators=250,\n",
              "                       n_jobs=None, oob_score=False, random_state=108,\n",
              "                       verbose=0, warm_start=False)"
            ]
          },
          "metadata": {
            "tags": []
          },
          "execution_count": 270
        }
      ]
    },
    {
      "cell_type": "code",
      "metadata": {
        "id": "xBak8HbOA2y_",
        "colab_type": "code",
        "colab": {
          "base_uri": "https://localhost:8080/",
          "height": 33
        },
        "outputId": "20c17936-b419-4a43-8d9c-e8f19ceb50ac"
      },
      "source": [
        "model1.score(x_test, y_test)"
      ],
      "execution_count": 271,
      "outputs": [
        {
          "output_type": "execute_result",
          "data": {
            "text/plain": [
              "0.8300970873786407"
            ]
          },
          "metadata": {
            "tags": []
          },
          "execution_count": 271
        }
      ]
    },
    {
      "cell_type": "code",
      "metadata": {
        "id": "jRBBk4DLCUeP",
        "colab_type": "code",
        "colab": {
          "base_uri": "https://localhost:8080/",
          "height": 50
        },
        "outputId": "28434a3b-0778-48b3-87d8-aca580385c45"
      },
      "source": [
        "# confusion matrix\n",
        "y_pred = model1.predict(x_test)\n",
        "from sklearn.metrics import confusion_matrix\n",
        "cm = confusion_matrix(y_test, y_pred)\n",
        "cm"
      ],
      "execution_count": 273,
      "outputs": [
        {
          "output_type": "execute_result",
          "data": {
            "text/plain": [
              "array([[165,   3],\n",
              "       [ 32,   6]])"
            ]
          },
          "metadata": {
            "tags": []
          },
          "execution_count": 273
        }
      ]
    },
    {
      "cell_type": "markdown",
      "metadata": {
        "id": "MECa9CCzD7XP",
        "colab_type": "text"
      },
      "source": [
        "Accuracy, precision, recall using Random forest"
      ]
    },
    {
      "cell_type": "code",
      "metadata": {
        "id": "dAi9HWGQED8z",
        "colab_type": "code",
        "colab": {
          "base_uri": "https://localhost:8080/",
          "height": 33
        },
        "outputId": "d7805bb4-f2d2-4402-a301-8c23ea06953d"
      },
      "source": [
        "# Accuracy\n",
        "from sklearn.metrics import accuracy_score\n",
        "accuracy_score(y_test, y_pred)"
      ],
      "execution_count": 274,
      "outputs": [
        {
          "output_type": "execute_result",
          "data": {
            "text/plain": [
              "0.8300970873786407"
            ]
          },
          "metadata": {
            "tags": []
          },
          "execution_count": 274
        }
      ]
    },
    {
      "cell_type": "code",
      "metadata": {
        "id": "wtn-qSj3Eapz",
        "colab_type": "code",
        "colab": {
          "base_uri": "https://localhost:8080/",
          "height": 167
        },
        "outputId": "fcf1532b-ecf0-473f-8a64-f4bf47041c08"
      },
      "source": [
        "from sklearn.metrics import classification_report\n",
        "print(classification_report(y_test, y_pred))"
      ],
      "execution_count": 275,
      "outputs": [
        {
          "output_type": "stream",
          "text": [
            "              precision    recall  f1-score   support\n",
            "\n",
            "           0       0.84      0.98      0.90       168\n",
            "           1       0.67      0.16      0.26        38\n",
            "\n",
            "    accuracy                           0.83       206\n",
            "   macro avg       0.75      0.57      0.58       206\n",
            "weighted avg       0.81      0.83      0.78       206\n",
            "\n"
          ],
          "name": "stdout"
        }
      ]
    },
    {
      "cell_type": "markdown",
      "metadata": {
        "id": "BOxk5MSo8ZlE",
        "colab_type": "text"
      },
      "source": [
        "Hyperparameter tuning"
      ]
    },
    {
      "cell_type": "code",
      "metadata": {
        "id": "xLqK8cWH8Y2H",
        "colab_type": "code",
        "colab": {}
      },
      "source": [
        "param_dist_rf = {\n",
        "    'criterion':['gini','entropy'],\n",
        "    'n_estimators':[150,200,250]\n",
        "}"
      ],
      "execution_count": 0,
      "outputs": []
    },
    {
      "cell_type": "code",
      "metadata": {
        "id": "W93OhGoW9ozJ",
        "colab_type": "code",
        "colab": {
          "base_uri": "https://localhost:8080/",
          "height": 385
        },
        "outputId": "dfe972a6-3992-4f87-e46f-27e4008b05e8"
      },
      "source": [
        "from sklearn.model_selection import GridSearchCV\n",
        "grid_rf = GridSearchCV(model1, param_grid=param_dist_rf, cv=10, n_jobs=-1)\n",
        "grid_rf.fit(x_train, y_train)"
      ],
      "execution_count": 281,
      "outputs": [
        {
          "output_type": "execute_result",
          "data": {
            "text/plain": [
              "GridSearchCV(cv=10, error_score=nan,\n",
              "             estimator=RandomForestClassifier(bootstrap=True, ccp_alpha=0.0,\n",
              "                                              class_weight=None,\n",
              "                                              criterion='entropy',\n",
              "                                              max_depth=None,\n",
              "                                              max_features='auto',\n",
              "                                              max_leaf_nodes=None,\n",
              "                                              max_samples=None,\n",
              "                                              min_impurity_decrease=0.0,\n",
              "                                              min_impurity_split=None,\n",
              "                                              min_samples_leaf=1,\n",
              "                                              min_samples_split=2,\n",
              "                                              min_weight_fraction_leaf=0.0,\n",
              "                                              n_estimators=250, n_jobs=None,\n",
              "                                              oob_score=False, random_state=108,\n",
              "                                              verbose=0, warm_start=False),\n",
              "             iid='deprecated', n_jobs=-1,\n",
              "             param_grid={'criterion': ['gini', 'entropy'],\n",
              "                         'max_depth': [1, 2, 3, None],\n",
              "                         'n_estimators': [150, 200, 250]},\n",
              "             pre_dispatch='2*n_jobs', refit=True, return_train_score=False,\n",
              "             scoring=None, verbose=0)"
            ]
          },
          "metadata": {
            "tags": []
          },
          "execution_count": 281
        }
      ]
    },
    {
      "cell_type": "code",
      "metadata": {
        "id": "KYoiq3gpAjwl",
        "colab_type": "code",
        "colab": {
          "base_uri": "https://localhost:8080/",
          "height": 33
        },
        "outputId": "93a66f4c-0b5c-4825-fc7c-e86409a806dd"
      },
      "source": [
        "grid_rf.best_score_"
      ],
      "execution_count": 282,
      "outputs": [
        {
          "output_type": "execute_result",
          "data": {
            "text/plain": [
              "0.8564795768439613"
            ]
          },
          "metadata": {
            "tags": []
          },
          "execution_count": 282
        }
      ]
    },
    {
      "cell_type": "code",
      "metadata": {
        "id": "KxOjwyYIAqvB",
        "colab_type": "code",
        "colab": {
          "base_uri": "https://localhost:8080/",
          "height": 33
        },
        "outputId": "02edec85-eb81-4806-fdf1-1f67f778c3ca"
      },
      "source": [
        "grid_rf.best_params_"
      ],
      "execution_count": 283,
      "outputs": [
        {
          "output_type": "execute_result",
          "data": {
            "text/plain": [
              "{'criterion': 'entropy', 'max_depth': None, 'n_estimators': 250}"
            ]
          },
          "metadata": {
            "tags": []
          },
          "execution_count": 283
        }
      ]
    },
    {
      "cell_type": "markdown",
      "metadata": {
        "id": "kd2xUCcsSPfO",
        "colab_type": "text"
      },
      "source": [
        "##02 Decision tree classifier\n"
      ]
    },
    {
      "cell_type": "code",
      "metadata": {
        "id": "emfZ4EtPSNe2",
        "colab_type": "code",
        "colab": {
          "base_uri": "https://localhost:8080/",
          "height": 117
        },
        "outputId": "db2d70a6-7928-47c3-aa7f-68ecb2c5018e"
      },
      "source": [
        "from sklearn import tree\n",
        "model2 = tree.DecisionTreeClassifier(criterion = 'entropy', max_depth=2 , random_state=108)  # based on parameter tuning\n",
        "model2.fit(x_train,y_train)"
      ],
      "execution_count": 285,
      "outputs": [
        {
          "output_type": "execute_result",
          "data": {
            "text/plain": [
              "DecisionTreeClassifier(ccp_alpha=0.0, class_weight=None, criterion='entropy',\n",
              "                       max_depth=2, max_features=None, max_leaf_nodes=None,\n",
              "                       min_impurity_decrease=0.0, min_impurity_split=None,\n",
              "                       min_samples_leaf=1, min_samples_split=2,\n",
              "                       min_weight_fraction_leaf=0.0, presort='deprecated',\n",
              "                       random_state=108, splitter='best')"
            ]
          },
          "metadata": {
            "tags": []
          },
          "execution_count": 285
        }
      ]
    },
    {
      "cell_type": "code",
      "metadata": {
        "id": "meq8WyjsUVzO",
        "colab_type": "code",
        "colab": {
          "base_uri": "https://localhost:8080/",
          "height": 33
        },
        "outputId": "cb5a1b29-0c6f-44de-ebc9-b44e9994b21a"
      },
      "source": [
        "model2.score(x_test,y_test)"
      ],
      "execution_count": 286,
      "outputs": [
        {
          "output_type": "execute_result",
          "data": {
            "text/plain": [
              "0.8203883495145631"
            ]
          },
          "metadata": {
            "tags": []
          },
          "execution_count": 286
        }
      ]
    },
    {
      "cell_type": "code",
      "metadata": {
        "id": "Jx_YGXTVpSjN",
        "colab_type": "code",
        "colab": {
          "base_uri": "https://localhost:8080/",
          "height": 50
        },
        "outputId": "2f861aef-ad0d-4fec-ed86-502e3e1f8b1b"
      },
      "source": [
        "y_pred_dtc = model2.predict(x_test)\n",
        "cm_dtc = confusion_matrix(y_test, y_pred_dtc)\n",
        "cm_dtc"
      ],
      "execution_count": 287,
      "outputs": [
        {
          "output_type": "execute_result",
          "data": {
            "text/plain": [
              "array([[160,   8],\n",
              "       [ 29,   9]])"
            ]
          },
          "metadata": {
            "tags": []
          },
          "execution_count": 287
        }
      ]
    },
    {
      "cell_type": "code",
      "metadata": {
        "id": "OL8sj4m5sDwq",
        "colab_type": "code",
        "colab": {
          "base_uri": "https://localhost:8080/",
          "height": 167
        },
        "outputId": "781cd3c0-34bb-4b4c-cf67-e9bda796717a"
      },
      "source": [
        "print(classification_report(y_test, y_pred_dtc))"
      ],
      "execution_count": 288,
      "outputs": [
        {
          "output_type": "stream",
          "text": [
            "              precision    recall  f1-score   support\n",
            "\n",
            "           0       0.85      0.95      0.90       168\n",
            "           1       0.53      0.24      0.33        38\n",
            "\n",
            "    accuracy                           0.82       206\n",
            "   macro avg       0.69      0.59      0.61       206\n",
            "weighted avg       0.79      0.82      0.79       206\n",
            "\n"
          ],
          "name": "stdout"
        }
      ]
    },
    {
      "cell_type": "markdown",
      "metadata": {
        "id": "QzkpnlJBpFxk",
        "colab_type": "text"
      },
      "source": [
        "Parameter tuning - decision tree classifier"
      ]
    },
    {
      "cell_type": "code",
      "metadata": {
        "id": "4wmKUDrAmc2O",
        "colab_type": "code",
        "colab": {
          "base_uri": "https://localhost:8080/",
          "height": 33
        },
        "outputId": "0183363c-bb29-47cc-cf97-4fcbcebd8a2f"
      },
      "source": [
        "param_dist = {\n",
        "    'criterion':['gini','entropy'],\n",
        "    'max_depth':[1,2,3,4,5,6,7,None]\n",
        "}\n",
        "from sklearn.model_selection import GridSearchCV\n",
        "grid = GridSearchCV(model2,param_grid=param_dist, cv=10)\n",
        "grid.fit(x_train, y_train)\n",
        "grid.best_estimator_\n",
        "grid.best_score_\n",
        "grid.best_params_  # best parameters "
      ],
      "execution_count": 289,
      "outputs": [
        {
          "output_type": "execute_result",
          "data": {
            "text/plain": [
              "{'criterion': 'entropy', 'max_depth': 2}"
            ]
          },
          "metadata": {
            "tags": []
          },
          "execution_count": 289
        }
      ]
    },
    {
      "cell_type": "markdown",
      "metadata": {
        "id": "RmTMQzjruM08",
        "colab_type": "text"
      },
      "source": [
        "## 03 K neighbour classifier"
      ]
    },
    {
      "cell_type": "code",
      "metadata": {
        "id": "2QJAbCzIuMK9",
        "colab_type": "code",
        "colab": {
          "base_uri": "https://localhost:8080/",
          "height": 67
        },
        "outputId": "e43a2766-9cc6-4194-b268-bb0b2dca1722"
      },
      "source": [
        "from sklearn.neighbors import KNeighborsClassifier\n",
        "from sklearn import neighbors\n",
        "model3 = neighbors.KNeighborsClassifier(algorithm = 'auto', n_neighbors=5, weights='uniform')\n",
        "model3.fit(x_train, y_train)"
      ],
      "execution_count": 290,
      "outputs": [
        {
          "output_type": "execute_result",
          "data": {
            "text/plain": [
              "KNeighborsClassifier(algorithm='auto', leaf_size=30, metric='minkowski',\n",
              "                     metric_params=None, n_jobs=None, n_neighbors=5, p=2,\n",
              "                     weights='uniform')"
            ]
          },
          "metadata": {
            "tags": []
          },
          "execution_count": 290
        }
      ]
    },
    {
      "cell_type": "code",
      "metadata": {
        "id": "OWFYUgYJy31Y",
        "colab_type": "code",
        "colab": {
          "base_uri": "https://localhost:8080/",
          "height": 33
        },
        "outputId": "37036c7e-d1a3-4eac-80d3-e8c07a09e721"
      },
      "source": [
        "model3.score(x_test,y_test)"
      ],
      "execution_count": 291,
      "outputs": [
        {
          "output_type": "execute_result",
          "data": {
            "text/plain": [
              "0.8349514563106796"
            ]
          },
          "metadata": {
            "tags": []
          },
          "execution_count": 291
        }
      ]
    },
    {
      "cell_type": "code",
      "metadata": {
        "id": "5G3BVQcQ0c2Y",
        "colab_type": "code",
        "colab": {}
      },
      "source": [
        "y_pred_knn = model3.predict(x_test)"
      ],
      "execution_count": 0,
      "outputs": []
    },
    {
      "cell_type": "code",
      "metadata": {
        "id": "d_Uzfk110Va9",
        "colab_type": "code",
        "colab": {
          "base_uri": "https://localhost:8080/",
          "height": 167
        },
        "outputId": "1db78089-a304-431b-937e-3c3f6c3936ea"
      },
      "source": [
        "print(classification_report(y_test, y_pred_knn))"
      ],
      "execution_count": 293,
      "outputs": [
        {
          "output_type": "stream",
          "text": [
            "              precision    recall  f1-score   support\n",
            "\n",
            "           0       0.84      0.99      0.91       168\n",
            "           1       0.75      0.16      0.26        38\n",
            "\n",
            "    accuracy                           0.83       206\n",
            "   macro avg       0.79      0.57      0.58       206\n",
            "weighted avg       0.82      0.83      0.79       206\n",
            "\n"
          ],
          "name": "stdout"
        }
      ]
    },
    {
      "cell_type": "markdown",
      "metadata": {
        "id": "0TIKzjblzGMM",
        "colab_type": "text"
      },
      "source": [
        "hyperparameter tuning"
      ]
    },
    {
      "cell_type": "code",
      "metadata": {
        "id": "Gy2evUsNzFFv",
        "colab_type": "code",
        "colab": {}
      },
      "source": [
        "param_dist_knn = {\n",
        "    'n_neighbors':[3,5,7,10],\n",
        "    'algorithm':['auto','ball_tree', 'kd_tree', 'brute'],\n",
        "    'weights':['uniform','distance']\n",
        "}"
      ],
      "execution_count": 0,
      "outputs": []
    },
    {
      "cell_type": "code",
      "metadata": {
        "id": "BvNtxvO11_94",
        "colab_type": "code",
        "colab": {
          "base_uri": "https://localhost:8080/",
          "height": 217
        },
        "outputId": "662ffd8a-3ab3-4c21-8be2-e604c172ff9f"
      },
      "source": [
        "grid_knn = GridSearchCV(model3, param_grid=param_dist_knn, cv=10)\n",
        "grid_knn.fit(x_train, y_train)"
      ],
      "execution_count": 295,
      "outputs": [
        {
          "output_type": "execute_result",
          "data": {
            "text/plain": [
              "GridSearchCV(cv=10, error_score=nan,\n",
              "             estimator=KNeighborsClassifier(algorithm='auto', leaf_size=30,\n",
              "                                            metric='minkowski',\n",
              "                                            metric_params=None, n_jobs=None,\n",
              "                                            n_neighbors=5, p=2,\n",
              "                                            weights='uniform'),\n",
              "             iid='deprecated', n_jobs=None,\n",
              "             param_grid={'algorithm': ['auto', 'ball_tree', 'kd_tree', 'brute'],\n",
              "                         'n_neighbors': [3, 5, 7, 10],\n",
              "                         'weights': ['uniform', 'distance']},\n",
              "             pre_dispatch='2*n_jobs', refit=True, return_train_score=False,\n",
              "             scoring=None, verbose=0)"
            ]
          },
          "metadata": {
            "tags": []
          },
          "execution_count": 295
        }
      ]
    },
    {
      "cell_type": "code",
      "metadata": {
        "id": "VQo8dPKdD2K4",
        "colab_type": "code",
        "colab": {
          "base_uri": "https://localhost:8080/",
          "height": 33
        },
        "outputId": "8322763b-4e62-4ff3-9ad4-e40ccc878d94"
      },
      "source": [
        "grid_knn.best_score_"
      ],
      "execution_count": 297,
      "outputs": [
        {
          "output_type": "execute_result",
          "data": {
            "text/plain": [
              "0.8418160446664708"
            ]
          },
          "metadata": {
            "tags": []
          },
          "execution_count": 297
        }
      ]
    },
    {
      "cell_type": "markdown",
      "metadata": {
        "id": "_eCZ1lcdtuNF",
        "colab_type": "text"
      },
      "source": [
        "# Comparision between models"
      ]
    },
    {
      "cell_type": "code",
      "metadata": {
        "id": "oRkzg5iXEXSN",
        "colab_type": "code",
        "colab": {
          "base_uri": "https://localhost:8080/",
          "height": 596
        },
        "outputId": "e21da470-2d97-4e5f-9d11-ac662f8c0ea4"
      },
      "source": [
        "from sklearn.metrics import roc_curve, auc\n",
        "rf_fpr, rf_tpr, threshold = roc_curve(y_test, y_pred)  # random forest\n",
        "dtc_fpr, dtc_tpr, threshold = roc_curve(y_test, y_pred_dtc) # decision tree classifier\n",
        "knn_fpr, knn_tpr, thrshold = roc_curve(y_test, y_pred_knn) # knn \n",
        "rf_auc = auc(rf_fpr, rf_tpr)\n",
        "dtc_auc = auc(dtc_fpr,dtc_tpr)\n",
        "knn_auc = auc(knn_fpr,knn_tpr)\n",
        "# plotting\n",
        "plt.figure(figsize=(3,3), dpi = 200)\n",
        "plt.plot(rf_fpr, rf_tpr, linestyle ='-', label='RF(auc=%0.3f)'% rf_auc)\n",
        "plt.plot(dtc_fpr,dtc_tpr, marker ='*', label='DTC(auc=%0.3f)'% dtc_auc)\n",
        "plt.plot(knn_fpr,knn_tpr, marker ='+', label='KNN(auc=%0.3f)'% knn_auc)\n",
        "plt.xlabel(\"false positive rate\")\n",
        "plt.ylabel(\"True positive rate\")\n",
        "plt.legend()\n",
        "plt.show()"
      ],
      "execution_count": 302,
      "outputs": [
        {
          "output_type": "display_data",
          "data": {
            "image/png": "[encoded data removed]",
            "text/plain": [
              "<Figure size 600x600 with 1 Axes>"
            ]
          },
          "metadata": {
            "tags": [],
            "needs_background": "light"
          }
        }
      ]
    },
    {
      "cell_type": "markdown",
      "metadata": {
        "id": "AAJ3k2rrFHt3",
        "colab_type": "text"
      },
      "source": [
        "# So **Decision tree classifier** is best classifier among the three classifiers."
      ]
    },
    {
      "cell_type": "code",
      "metadata": {
        "id": "rvQHh98HSKEh",
        "colab_type": "code",
        "colab": {}
      },
      "source": [
        ""
      ],
      "execution_count": 0,
      "outputs": []
    },
    {
      "cell_type": "markdown",
      "metadata": {
        "id": "Z6Z7spcObKvd",
        "colab_type": "text"
      },
      "source": [
        "## Resources:\n",
        "\n",
        "* You might want to refer to the [lecture notebook](https://github.com/shala2020/shala2020.github.io/tree/master/Lecture_Materials/Google_Colab_Notebooks/MachineLearning/L1) for revising the concepts.\n",
        "* You can also refer to the pre-work material for the first lecture on ML.  "
      ]
    }
  ]
}